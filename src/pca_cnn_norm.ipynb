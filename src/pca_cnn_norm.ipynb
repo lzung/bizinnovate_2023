{
 "cells": [
  {
   "cell_type": "code",
   "execution_count": 1,
   "id": "aee5679c",
   "metadata": {
    "execution": {
     "iopub.execute_input": "2023-03-23T02:32:42.825916Z",
     "iopub.status.busy": "2023-03-23T02:32:42.825458Z",
     "iopub.status.idle": "2023-03-23T02:32:56.704130Z",
     "shell.execute_reply": "2023-03-23T02:32:56.702943Z"
    },
    "papermill": {
     "duration": 13.889091,
     "end_time": "2023-03-23T02:32:56.706824",
     "exception": false,
     "start_time": "2023-03-23T02:32:42.817733",
     "status": "completed"
    },
    "tags": []
   },
   "outputs": [
    {
     "name": "stdout",
     "output_type": "stream",
     "text": [
      "Collecting torchsummary\r\n"
     ]
    },
    {
     "name": "stdout",
     "output_type": "stream",
     "text": [
      "  Downloading torchsummary-1.5.1-py3-none-any.whl (2.8 kB)\r\n"
     ]
    },
    {
     "name": "stdout",
     "output_type": "stream",
     "text": [
      "Installing collected packages: torchsummary\r\n"
     ]
    },
    {
     "name": "stdout",
     "output_type": "stream",
     "text": [
      "Successfully installed torchsummary-1.5.1\r\n",
      "\u001b[33mWARNING: Running pip as the 'root' user can result in broken permissions and conflicting behaviour with the system package manager. It is recommended to use a virtual environment instead: https://pip.pypa.io/warnings/venv\u001b[0m\u001b[33m\r\n",
      "\u001b[0m"
     ]
    }
   ],
   "source": [
    "import os\n",
    "import torch\n",
    "import torchvision\n",
    "from torch import nn, optim\n",
    "from torchvision import transforms, models, datasets\n",
    "!pip install torchsummary\n",
    "from torchsummary import summary\n",
    "from PIL import Image\n",
    "from sklearn.linear_model import Ridge\n",
    "from sklearn.preprocessing import StandardScaler\n",
    "import torch\n",
    "from torch.utils.data import Dataset, DataLoader\n",
    "from pathlib import Path\n",
    "import numpy as np\n",
    "import pandas as pd\n",
    "import matplotlib.pyplot as plt"
   ]
  },
  {
   "cell_type": "code",
   "execution_count": 2,
   "id": "913a20c0",
   "metadata": {
    "execution": {
     "iopub.execute_input": "2023-03-23T02:32:56.719937Z",
     "iopub.status.busy": "2023-03-23T02:32:56.719270Z",
     "iopub.status.idle": "2023-03-23T02:32:56.841271Z",
     "shell.execute_reply": "2023-03-23T02:32:56.840232Z"
    },
    "papermill": {
     "duration": 0.130815,
     "end_time": "2023-03-23T02:32:56.843385",
     "exception": false,
     "start_time": "2023-03-23T02:32:56.712570",
     "status": "completed"
    },
    "tags": []
   },
   "outputs": [
    {
     "data": {
      "text/html": [
       "<div>\n",
       "<style scoped>\n",
       "    .dataframe tbody tr th:only-of-type {\n",
       "        vertical-align: middle;\n",
       "    }\n",
       "\n",
       "    .dataframe tbody tr th {\n",
       "        vertical-align: top;\n",
       "    }\n",
       "\n",
       "    .dataframe thead th {\n",
       "        text-align: right;\n",
       "    }\n",
       "</style>\n",
       "<table border=\"1\" class=\"dataframe\">\n",
       "  <thead>\n",
       "    <tr style=\"text-align: right;\">\n",
       "      <th></th>\n",
       "      <th>DHSID_EA</th>\n",
       "      <th>cname</th>\n",
       "      <th>year</th>\n",
       "      <th>lat</th>\n",
       "      <th>lon</th>\n",
       "      <th>n_asset</th>\n",
       "      <th>asset_index</th>\n",
       "      <th>n_water</th>\n",
       "      <th>water_index</th>\n",
       "      <th>cluster_id</th>\n",
       "      <th>adm1dhs</th>\n",
       "      <th>urban</th>\n",
       "      <th>path</th>\n",
       "    </tr>\n",
       "  </thead>\n",
       "  <tbody>\n",
       "    <tr>\n",
       "      <th>0</th>\n",
       "      <td>IA-2015-7-00010004</td>\n",
       "      <td>IA</td>\n",
       "      <td>2015</td>\n",
       "      <td>9.165413</td>\n",
       "      <td>92.742696</td>\n",
       "      <td>22.0</td>\n",
       "      <td>2.650768</td>\n",
       "      <td>22.0</td>\n",
       "      <td>5.000000</td>\n",
       "      <td>10004</td>\n",
       "      <td>1</td>\n",
       "      <td>R</td>\n",
       "      <td>IA-2015-7-00010004.npz</td>\n",
       "    </tr>\n",
       "    <tr>\n",
       "      <th>1</th>\n",
       "      <td>IA-2015-7-00010005</td>\n",
       "      <td>IA</td>\n",
       "      <td>2015</td>\n",
       "      <td>8.307356</td>\n",
       "      <td>93.093792</td>\n",
       "      <td>22.0</td>\n",
       "      <td>2.157784</td>\n",
       "      <td>22.0</td>\n",
       "      <td>5.000000</td>\n",
       "      <td>10005</td>\n",
       "      <td>1</td>\n",
       "      <td>R</td>\n",
       "      <td>IA-2015-7-00010005.npz</td>\n",
       "    </tr>\n",
       "    <tr>\n",
       "      <th>2</th>\n",
       "      <td>IA-2015-7-00010007</td>\n",
       "      <td>IA</td>\n",
       "      <td>2015</td>\n",
       "      <td>7.016968</td>\n",
       "      <td>93.893226</td>\n",
       "      <td>21.0</td>\n",
       "      <td>1.832751</td>\n",
       "      <td>21.0</td>\n",
       "      <td>4.619048</td>\n",
       "      <td>10007</td>\n",
       "      <td>1</td>\n",
       "      <td>R</td>\n",
       "      <td>IA-2015-7-00010007.npz</td>\n",
       "    </tr>\n",
       "    <tr>\n",
       "      <th>3</th>\n",
       "      <td>IA-2015-7-00010016</td>\n",
       "      <td>IA</td>\n",
       "      <td>2015</td>\n",
       "      <td>9.194938</td>\n",
       "      <td>92.800432</td>\n",
       "      <td>22.0</td>\n",
       "      <td>2.746096</td>\n",
       "      <td>22.0</td>\n",
       "      <td>5.000000</td>\n",
       "      <td>10016</td>\n",
       "      <td>1</td>\n",
       "      <td>R</td>\n",
       "      <td>IA-2015-7-00010016.npz</td>\n",
       "    </tr>\n",
       "    <tr>\n",
       "      <th>4</th>\n",
       "      <td>IA-2015-7-00010018</td>\n",
       "      <td>IA</td>\n",
       "      <td>2015</td>\n",
       "      <td>8.055606</td>\n",
       "      <td>93.543892</td>\n",
       "      <td>22.0</td>\n",
       "      <td>2.581869</td>\n",
       "      <td>22.0</td>\n",
       "      <td>5.000000</td>\n",
       "      <td>10018</td>\n",
       "      <td>1</td>\n",
       "      <td>R</td>\n",
       "      <td>IA-2015-7-00010018.npz</td>\n",
       "    </tr>\n",
       "  </tbody>\n",
       "</table>\n",
       "</div>"
      ],
      "text/plain": [
       "             DHSID_EA cname  year       lat        lon  n_asset  asset_index  \\\n",
       "0  IA-2015-7-00010004    IA  2015  9.165413  92.742696     22.0     2.650768   \n",
       "1  IA-2015-7-00010005    IA  2015  8.307356  93.093792     22.0     2.157784   \n",
       "2  IA-2015-7-00010007    IA  2015  7.016968  93.893226     21.0     1.832751   \n",
       "3  IA-2015-7-00010016    IA  2015  9.194938  92.800432     22.0     2.746096   \n",
       "4  IA-2015-7-00010018    IA  2015  8.055606  93.543892     22.0     2.581869   \n",
       "\n",
       "   n_water  water_index  cluster_id  adm1dhs urban                    path  \n",
       "0     22.0     5.000000       10004        1     R  IA-2015-7-00010004.npz  \n",
       "1     22.0     5.000000       10005        1     R  IA-2015-7-00010005.npz  \n",
       "2     21.0     4.619048       10007        1     R  IA-2015-7-00010007.npz  \n",
       "3     22.0     5.000000       10016        1     R  IA-2015-7-00010016.npz  \n",
       "4     22.0     5.000000       10018        1     R  IA-2015-7-00010018.npz  "
      ]
     },
     "execution_count": 2,
     "metadata": {},
     "output_type": "execute_result"
    }
   ],
   "source": [
    "train = pd.read_csv('/kaggle/input/bizinnovate-2023/train.csv')\n",
    "train['path'] = train['path'].str.replace('dhs_train/', '')\n",
    "train.head()"
   ]
  },
  {
   "cell_type": "code",
   "execution_count": 3,
   "id": "6f42ab8a",
   "metadata": {
    "execution": {
     "iopub.execute_input": "2023-03-23T02:32:56.856044Z",
     "iopub.status.busy": "2023-03-23T02:32:56.855438Z",
     "iopub.status.idle": "2023-03-23T02:32:56.888937Z",
     "shell.execute_reply": "2023-03-23T02:32:56.887238Z"
    },
    "papermill": {
     "duration": 0.042296,
     "end_time": "2023-03-23T02:32:56.891126",
     "exception": false,
     "start_time": "2023-03-23T02:32:56.848830",
     "status": "completed"
    },
    "tags": []
   },
   "outputs": [
    {
     "data": {
      "text/html": [
       "<div>\n",
       "<style scoped>\n",
       "    .dataframe tbody tr th:only-of-type {\n",
       "        vertical-align: middle;\n",
       "    }\n",
       "\n",
       "    .dataframe tbody tr th {\n",
       "        vertical-align: top;\n",
       "    }\n",
       "\n",
       "    .dataframe thead th {\n",
       "        text-align: right;\n",
       "    }\n",
       "</style>\n",
       "<table border=\"1\" class=\"dataframe\">\n",
       "  <thead>\n",
       "    <tr style=\"text-align: right;\">\n",
       "      <th></th>\n",
       "      <th>DHSID_EA</th>\n",
       "      <th>cname</th>\n",
       "      <th>year</th>\n",
       "      <th>lat</th>\n",
       "      <th>lon</th>\n",
       "      <th>n_asset</th>\n",
       "      <th>asset_index</th>\n",
       "      <th>cluster_id</th>\n",
       "      <th>adm1dhs</th>\n",
       "      <th>urban</th>\n",
       "      <th>path</th>\n",
       "    </tr>\n",
       "  </thead>\n",
       "  <tbody>\n",
       "    <tr>\n",
       "      <th>0</th>\n",
       "      <td>IA-2015-7-00010009</td>\n",
       "      <td>IA</td>\n",
       "      <td>2015</td>\n",
       "      <td>9.220903</td>\n",
       "      <td>92.781530</td>\n",
       "      <td>22.0</td>\n",
       "      <td>2.721812</td>\n",
       "      <td>10009</td>\n",
       "      <td>1</td>\n",
       "      <td>R</td>\n",
       "      <td>IA-2015-7-00010009.npz</td>\n",
       "    </tr>\n",
       "    <tr>\n",
       "      <th>1</th>\n",
       "      <td>IA-2015-7-00010011</td>\n",
       "      <td>IA</td>\n",
       "      <td>2015</td>\n",
       "      <td>7.028410</td>\n",
       "      <td>93.883430</td>\n",
       "      <td>20.0</td>\n",
       "      <td>2.287279</td>\n",
       "      <td>10011</td>\n",
       "      <td>1</td>\n",
       "      <td>R</td>\n",
       "      <td>IA-2015-7-00010011.npz</td>\n",
       "    </tr>\n",
       "    <tr>\n",
       "      <th>2</th>\n",
       "      <td>IA-2015-7-00010017</td>\n",
       "      <td>IA</td>\n",
       "      <td>2015</td>\n",
       "      <td>12.371448</td>\n",
       "      <td>92.783665</td>\n",
       "      <td>22.0</td>\n",
       "      <td>0.677109</td>\n",
       "      <td>10017</td>\n",
       "      <td>1</td>\n",
       "      <td>R</td>\n",
       "      <td>IA-2015-7-00010017.npz</td>\n",
       "    </tr>\n",
       "    <tr>\n",
       "      <th>3</th>\n",
       "      <td>IA-2015-7-00010044</td>\n",
       "      <td>IA</td>\n",
       "      <td>2015</td>\n",
       "      <td>11.727304</td>\n",
       "      <td>92.719257</td>\n",
       "      <td>21.0</td>\n",
       "      <td>1.793683</td>\n",
       "      <td>10044</td>\n",
       "      <td>1</td>\n",
       "      <td>R</td>\n",
       "      <td>IA-2015-7-00010044.npz</td>\n",
       "    </tr>\n",
       "    <tr>\n",
       "      <th>4</th>\n",
       "      <td>IA-2015-7-00010060</td>\n",
       "      <td>IA</td>\n",
       "      <td>2015</td>\n",
       "      <td>9.185310</td>\n",
       "      <td>92.777645</td>\n",
       "      <td>22.0</td>\n",
       "      <td>2.758168</td>\n",
       "      <td>10060</td>\n",
       "      <td>1</td>\n",
       "      <td>R</td>\n",
       "      <td>IA-2015-7-00010060.npz</td>\n",
       "    </tr>\n",
       "  </tbody>\n",
       "</table>\n",
       "</div>"
      ],
      "text/plain": [
       "             DHSID_EA cname  year        lat        lon  n_asset  asset_index  \\\n",
       "0  IA-2015-7-00010009    IA  2015   9.220903  92.781530     22.0     2.721812   \n",
       "1  IA-2015-7-00010011    IA  2015   7.028410  93.883430     20.0     2.287279   \n",
       "2  IA-2015-7-00010017    IA  2015  12.371448  92.783665     22.0     0.677109   \n",
       "3  IA-2015-7-00010044    IA  2015  11.727304  92.719257     21.0     1.793683   \n",
       "4  IA-2015-7-00010060    IA  2015   9.185310  92.777645     22.0     2.758168   \n",
       "\n",
       "   cluster_id  adm1dhs urban                    path  \n",
       "0       10009        1     R  IA-2015-7-00010009.npz  \n",
       "1       10011        1     R  IA-2015-7-00010011.npz  \n",
       "2       10017        1     R  IA-2015-7-00010017.npz  \n",
       "3       10044        1     R  IA-2015-7-00010044.npz  \n",
       "4       10060        1     R  IA-2015-7-00010060.npz  "
      ]
     },
     "execution_count": 3,
     "metadata": {},
     "output_type": "execute_result"
    }
   ],
   "source": [
    "test = pd.read_csv('/kaggle/input/bizinnovate-2023/test_masked.csv')\n",
    "test['path'] = test['path'].str.replace('dhs_valid/', '')\n",
    "test.head()"
   ]
  },
  {
   "cell_type": "code",
   "execution_count": 4,
   "id": "81206fc2",
   "metadata": {
    "execution": {
     "iopub.execute_input": "2023-03-23T02:32:56.903647Z",
     "iopub.status.busy": "2023-03-23T02:32:56.903359Z",
     "iopub.status.idle": "2023-03-23T02:32:57.002943Z",
     "shell.execute_reply": "2023-03-23T02:32:57.001393Z"
    },
    "papermill": {
     "duration": 0.109458,
     "end_time": "2023-03-23T02:32:57.006143",
     "exception": false,
     "start_time": "2023-03-23T02:32:56.896685",
     "status": "completed"
    },
    "tags": []
   },
   "outputs": [
    {
     "name": "stderr",
     "output_type": "stream",
     "text": [
      "/opt/conda/lib/python3.7/site-packages/pandas/io/formats/style.py:2813: RuntimeWarning: All-NaN slice encountered\n",
      "  smin = np.nanmin(gmap) if vmin is None else vmin\n",
      "/opt/conda/lib/python3.7/site-packages/pandas/io/formats/style.py:2814: RuntimeWarning: All-NaN slice encountered\n",
      "  smax = np.nanmax(gmap) if vmax is None else vmax\n"
     ]
    },
    {
     "data": {
      "text/html": [
       "<style type=\"text/css\">\n",
       "#T_76f33_row0_col0, #T_76f33_row0_col1, #T_76f33_row0_col2, #T_76f33_row0_col3, #T_76f33_row0_col4, #T_76f33_row0_col5, #T_76f33_row0_col6, #T_76f33_row0_col7, #T_76f33_row0_col8, #T_76f33_row1_col0, #T_76f33_row2_col0, #T_76f33_row3_col0, #T_76f33_row4_col0, #T_76f33_row5_col0, #T_76f33_row6_col0, #T_76f33_row7_col0, #T_76f33_row8_col0 {\n",
       "  background-color: #000000;\n",
       "  color: #f1f1f1;\n",
       "}\n",
       "#T_76f33_row1_col1, #T_76f33_row2_col2, #T_76f33_row3_col3, #T_76f33_row3_col5, #T_76f33_row4_col4, #T_76f33_row5_col3, #T_76f33_row5_col5, #T_76f33_row6_col6, #T_76f33_row7_col7, #T_76f33_row7_col8, #T_76f33_row8_col7, #T_76f33_row8_col8 {\n",
       "  background-color: #b40426;\n",
       "  color: #f1f1f1;\n",
       "}\n",
       "#T_76f33_row1_col2 {\n",
       "  background-color: #b3cdfb;\n",
       "  color: #000000;\n",
       "}\n",
       "#T_76f33_row1_col3, #T_76f33_row1_col5, #T_76f33_row4_col7, #T_76f33_row4_col8 {\n",
       "  background-color: #6c8ff1;\n",
       "  color: #f1f1f1;\n",
       "}\n",
       "#T_76f33_row1_col4, #T_76f33_row3_col8, #T_76f33_row5_col8 {\n",
       "  background-color: #5a78e4;\n",
       "  color: #f1f1f1;\n",
       "}\n",
       "#T_76f33_row1_col6, #T_76f33_row3_col4, #T_76f33_row5_col4 {\n",
       "  background-color: #4f69d9;\n",
       "  color: #f1f1f1;\n",
       "}\n",
       "#T_76f33_row1_col7, #T_76f33_row1_col8 {\n",
       "  background-color: #6384eb;\n",
       "  color: #f1f1f1;\n",
       "}\n",
       "#T_76f33_row2_col1 {\n",
       "  background-color: #a3c2fe;\n",
       "  color: #000000;\n",
       "}\n",
       "#T_76f33_row2_col3, #T_76f33_row2_col5 {\n",
       "  background-color: #6a8bef;\n",
       "  color: #f1f1f1;\n",
       "}\n",
       "#T_76f33_row2_col4, #T_76f33_row2_col6, #T_76f33_row2_col7, #T_76f33_row2_col8, #T_76f33_row4_col3, #T_76f33_row4_col5, #T_76f33_row6_col1, #T_76f33_row6_col2 {\n",
       "  background-color: #3b4cc0;\n",
       "  color: #f1f1f1;\n",
       "}\n",
       "#T_76f33_row3_col1, #T_76f33_row5_col1 {\n",
       "  background-color: #799cf8;\n",
       "  color: #f1f1f1;\n",
       "}\n",
       "#T_76f33_row3_col2, #T_76f33_row5_col2 {\n",
       "  background-color: #8badfd;\n",
       "  color: #000000;\n",
       "}\n",
       "#T_76f33_row3_col6, #T_76f33_row5_col6 {\n",
       "  background-color: #6687ed;\n",
       "  color: #f1f1f1;\n",
       "}\n",
       "#T_76f33_row3_col7, #T_76f33_row5_col7 {\n",
       "  background-color: #5b7ae5;\n",
       "  color: #f1f1f1;\n",
       "}\n",
       "#T_76f33_row4_col1 {\n",
       "  background-color: #536edd;\n",
       "  color: #f1f1f1;\n",
       "}\n",
       "#T_76f33_row4_col2 {\n",
       "  background-color: #485fd1;\n",
       "  color: #f1f1f1;\n",
       "}\n",
       "#T_76f33_row4_col6 {\n",
       "  background-color: #ef886b;\n",
       "  color: #f1f1f1;\n",
       "}\n",
       "#T_76f33_row6_col3, #T_76f33_row6_col5 {\n",
       "  background-color: #455cce;\n",
       "  color: #f1f1f1;\n",
       "}\n",
       "#T_76f33_row6_col4 {\n",
       "  background-color: #f08b6e;\n",
       "  color: #f1f1f1;\n",
       "}\n",
       "#T_76f33_row6_col7 {\n",
       "  background-color: #6180e9;\n",
       "  color: #f1f1f1;\n",
       "}\n",
       "#T_76f33_row6_col8, #T_76f33_row7_col2, #T_76f33_row7_col3, #T_76f33_row7_col5, #T_76f33_row8_col2, #T_76f33_row8_col3, #T_76f33_row8_col5 {\n",
       "  background-color: #6282ea;\n",
       "  color: #f1f1f1;\n",
       "}\n",
       "#T_76f33_row7_col1 {\n",
       "  background-color: #779af7;\n",
       "  color: #f1f1f1;\n",
       "}\n",
       "#T_76f33_row7_col4, #T_76f33_row8_col4 {\n",
       "  background-color: #86a9fc;\n",
       "  color: #f1f1f1;\n",
       "}\n",
       "#T_76f33_row7_col6, #T_76f33_row8_col6 {\n",
       "  background-color: #88abfd;\n",
       "  color: #000000;\n",
       "}\n",
       "#T_76f33_row8_col1 {\n",
       "  background-color: #7699f6;\n",
       "  color: #f1f1f1;\n",
       "}\n",
       "</style>\n",
       "<table id=\"T_76f33_\">\n",
       "  <thead>\n",
       "    <tr>\n",
       "      <th class=\"blank level0\" >&nbsp;</th>\n",
       "      <th class=\"col_heading level0 col0\" >year</th>\n",
       "      <th class=\"col_heading level0 col1\" >lat</th>\n",
       "      <th class=\"col_heading level0 col2\" >lon</th>\n",
       "      <th class=\"col_heading level0 col3\" >n_asset</th>\n",
       "      <th class=\"col_heading level0 col4\" >asset_index</th>\n",
       "      <th class=\"col_heading level0 col5\" >n_water</th>\n",
       "      <th class=\"col_heading level0 col6\" >water_index</th>\n",
       "      <th class=\"col_heading level0 col7\" >cluster_id</th>\n",
       "      <th class=\"col_heading level0 col8\" >adm1dhs</th>\n",
       "    </tr>\n",
       "  </thead>\n",
       "  <tbody>\n",
       "    <tr>\n",
       "      <th id=\"T_76f33_level0_row0\" class=\"row_heading level0 row0\" >year</th>\n",
       "      <td id=\"T_76f33_row0_col0\" class=\"data row0 col0\" >nan</td>\n",
       "      <td id=\"T_76f33_row0_col1\" class=\"data row0 col1\" >nan</td>\n",
       "      <td id=\"T_76f33_row0_col2\" class=\"data row0 col2\" >nan</td>\n",
       "      <td id=\"T_76f33_row0_col3\" class=\"data row0 col3\" >nan</td>\n",
       "      <td id=\"T_76f33_row0_col4\" class=\"data row0 col4\" >nan</td>\n",
       "      <td id=\"T_76f33_row0_col5\" class=\"data row0 col5\" >nan</td>\n",
       "      <td id=\"T_76f33_row0_col6\" class=\"data row0 col6\" >nan</td>\n",
       "      <td id=\"T_76f33_row0_col7\" class=\"data row0 col7\" >nan</td>\n",
       "      <td id=\"T_76f33_row0_col8\" class=\"data row0 col8\" >nan</td>\n",
       "    </tr>\n",
       "    <tr>\n",
       "      <th id=\"T_76f33_level0_row1\" class=\"row_heading level0 row1\" >lat</th>\n",
       "      <td id=\"T_76f33_row1_col0\" class=\"data row1 col0\" >nan</td>\n",
       "      <td id=\"T_76f33_row1_col1\" class=\"data row1 col1\" >1.000000</td>\n",
       "      <td id=\"T_76f33_row1_col2\" class=\"data row1 col2\" >0.153961</td>\n",
       "      <td id=\"T_76f33_row1_col3\" class=\"data row1 col3\" >0.003819</td>\n",
       "      <td id=\"T_76f33_row1_col4\" class=\"data row1 col4\" >-0.137063</td>\n",
       "      <td id=\"T_76f33_row1_col5\" class=\"data row1 col5\" >0.003819</td>\n",
       "      <td id=\"T_76f33_row1_col6\" class=\"data row1 col6\" >-0.234538</td>\n",
       "      <td id=\"T_76f33_row1_col7\" class=\"data row1 col7\" >-0.002257</td>\n",
       "      <td id=\"T_76f33_row1_col8\" class=\"data row1 col8\" >-0.004206</td>\n",
       "    </tr>\n",
       "    <tr>\n",
       "      <th id=\"T_76f33_level0_row2\" class=\"row_heading level0 row2\" >lon</th>\n",
       "      <td id=\"T_76f33_row2_col0\" class=\"data row2 col0\" >nan</td>\n",
       "      <td id=\"T_76f33_row2_col1\" class=\"data row2 col1\" >0.153961</td>\n",
       "      <td id=\"T_76f33_row2_col2\" class=\"data row2 col2\" >1.000000</td>\n",
       "      <td id=\"T_76f33_row2_col3\" class=\"data row2 col3\" >-0.001532</td>\n",
       "      <td id=\"T_76f33_row2_col4\" class=\"data row2 col4\" >-0.265972</td>\n",
       "      <td id=\"T_76f33_row2_col5\" class=\"data row2 col5\" >-0.001532</td>\n",
       "      <td id=\"T_76f33_row2_col6\" class=\"data row2 col6\" >-0.324953</td>\n",
       "      <td id=\"T_76f33_row2_col7\" class=\"data row2 col7\" >-0.155466</td>\n",
       "      <td id=\"T_76f33_row2_col8\" class=\"data row2 col8\" >-0.154863</td>\n",
       "    </tr>\n",
       "    <tr>\n",
       "      <th id=\"T_76f33_level0_row3\" class=\"row_heading level0 row3\" >n_asset</th>\n",
       "      <td id=\"T_76f33_row3_col0\" class=\"data row3 col0\" >nan</td>\n",
       "      <td id=\"T_76f33_row3_col1\" class=\"data row3 col1\" >0.003819</td>\n",
       "      <td id=\"T_76f33_row3_col2\" class=\"data row3 col2\" >-0.001532</td>\n",
       "      <td id=\"T_76f33_row3_col3\" class=\"data row3 col3\" >1.000000</td>\n",
       "      <td id=\"T_76f33_row3_col4\" class=\"data row3 col4\" >-0.181002</td>\n",
       "      <td id=\"T_76f33_row3_col5\" class=\"data row3 col5\" >1.000000</td>\n",
       "      <td id=\"T_76f33_row3_col6\" class=\"data row3 col6\" >-0.138688</td>\n",
       "      <td id=\"T_76f33_row3_col7\" class=\"data row3 col7\" >-0.032996</td>\n",
       "      <td id=\"T_76f33_row3_col8\" class=\"data row3 col8\" >-0.033262</td>\n",
       "    </tr>\n",
       "    <tr>\n",
       "      <th id=\"T_76f33_level0_row4\" class=\"row_heading level0 row4\" >asset_index</th>\n",
       "      <td id=\"T_76f33_row4_col0\" class=\"data row4 col0\" >nan</td>\n",
       "      <td id=\"T_76f33_row4_col1\" class=\"data row4 col1\" >-0.137063</td>\n",
       "      <td id=\"T_76f33_row4_col2\" class=\"data row4 col2\" >-0.265972</td>\n",
       "      <td id=\"T_76f33_row4_col3\" class=\"data row4 col3\" >-0.181002</td>\n",
       "      <td id=\"T_76f33_row4_col4\" class=\"data row4 col4\" >1.000000</td>\n",
       "      <td id=\"T_76f33_row4_col5\" class=\"data row4 col5\" >-0.181002</td>\n",
       "      <td id=\"T_76f33_row4_col6\" class=\"data row4 col6\" >0.723632</td>\n",
       "      <td id=\"T_76f33_row4_col7\" class=\"data row4 col7\" >0.026653</td>\n",
       "      <td id=\"T_76f33_row4_col8\" class=\"data row4 col8\" >0.029448</td>\n",
       "    </tr>\n",
       "    <tr>\n",
       "      <th id=\"T_76f33_level0_row5\" class=\"row_heading level0 row5\" >n_water</th>\n",
       "      <td id=\"T_76f33_row5_col0\" class=\"data row5 col0\" >nan</td>\n",
       "      <td id=\"T_76f33_row5_col1\" class=\"data row5 col1\" >0.003819</td>\n",
       "      <td id=\"T_76f33_row5_col2\" class=\"data row5 col2\" >-0.001532</td>\n",
       "      <td id=\"T_76f33_row5_col3\" class=\"data row5 col3\" >1.000000</td>\n",
       "      <td id=\"T_76f33_row5_col4\" class=\"data row5 col4\" >-0.181002</td>\n",
       "      <td id=\"T_76f33_row5_col5\" class=\"data row5 col5\" >1.000000</td>\n",
       "      <td id=\"T_76f33_row5_col6\" class=\"data row5 col6\" >-0.138688</td>\n",
       "      <td id=\"T_76f33_row5_col7\" class=\"data row5 col7\" >-0.032996</td>\n",
       "      <td id=\"T_76f33_row5_col8\" class=\"data row5 col8\" >-0.033262</td>\n",
       "    </tr>\n",
       "    <tr>\n",
       "      <th id=\"T_76f33_level0_row6\" class=\"row_heading level0 row6\" >water_index</th>\n",
       "      <td id=\"T_76f33_row6_col0\" class=\"data row6 col0\" >nan</td>\n",
       "      <td id=\"T_76f33_row6_col1\" class=\"data row6 col1\" >-0.234538</td>\n",
       "      <td id=\"T_76f33_row6_col2\" class=\"data row6 col2\" >-0.324953</td>\n",
       "      <td id=\"T_76f33_row6_col3\" class=\"data row6 col3\" >-0.138688</td>\n",
       "      <td id=\"T_76f33_row6_col4\" class=\"data row6 col4\" >0.723632</td>\n",
       "      <td id=\"T_76f33_row6_col5\" class=\"data row6 col5\" >-0.138688</td>\n",
       "      <td id=\"T_76f33_row6_col6\" class=\"data row6 col6\" >1.000000</td>\n",
       "      <td id=\"T_76f33_row6_col7\" class=\"data row6 col7\" >-0.013246</td>\n",
       "      <td id=\"T_76f33_row6_col8\" class=\"data row6 col8\" >-0.010455</td>\n",
       "    </tr>\n",
       "    <tr>\n",
       "      <th id=\"T_76f33_level0_row7\" class=\"row_heading level0 row7\" >cluster_id</th>\n",
       "      <td id=\"T_76f33_row7_col0\" class=\"data row7 col0\" >nan</td>\n",
       "      <td id=\"T_76f33_row7_col1\" class=\"data row7 col1\" >-0.002257</td>\n",
       "      <td id=\"T_76f33_row7_col2\" class=\"data row7 col2\" >-0.155466</td>\n",
       "      <td id=\"T_76f33_row7_col3\" class=\"data row7 col3\" >-0.032996</td>\n",
       "      <td id=\"T_76f33_row7_col4\" class=\"data row7 col4\" >0.026653</td>\n",
       "      <td id=\"T_76f33_row7_col5\" class=\"data row7 col5\" >-0.032996</td>\n",
       "      <td id=\"T_76f33_row7_col6\" class=\"data row7 col6\" >-0.013246</td>\n",
       "      <td id=\"T_76f33_row7_col7\" class=\"data row7 col7\" >1.000000</td>\n",
       "      <td id=\"T_76f33_row7_col8\" class=\"data row7 col8\" >0.999942</td>\n",
       "    </tr>\n",
       "    <tr>\n",
       "      <th id=\"T_76f33_level0_row8\" class=\"row_heading level0 row8\" >adm1dhs</th>\n",
       "      <td id=\"T_76f33_row8_col0\" class=\"data row8 col0\" >nan</td>\n",
       "      <td id=\"T_76f33_row8_col1\" class=\"data row8 col1\" >-0.004206</td>\n",
       "      <td id=\"T_76f33_row8_col2\" class=\"data row8 col2\" >-0.154863</td>\n",
       "      <td id=\"T_76f33_row8_col3\" class=\"data row8 col3\" >-0.033262</td>\n",
       "      <td id=\"T_76f33_row8_col4\" class=\"data row8 col4\" >0.029448</td>\n",
       "      <td id=\"T_76f33_row8_col5\" class=\"data row8 col5\" >-0.033262</td>\n",
       "      <td id=\"T_76f33_row8_col6\" class=\"data row8 col6\" >-0.010455</td>\n",
       "      <td id=\"T_76f33_row8_col7\" class=\"data row8 col7\" >0.999942</td>\n",
       "      <td id=\"T_76f33_row8_col8\" class=\"data row8 col8\" >1.000000</td>\n",
       "    </tr>\n",
       "  </tbody>\n",
       "</table>\n"
      ],
      "text/plain": [
       "<pandas.io.formats.style.Styler at 0x7fbc830481d0>"
      ]
     },
     "execution_count": 4,
     "metadata": {},
     "output_type": "execute_result"
    }
   ],
   "source": [
    "corr = train.corr()\n",
    "corr.style.background_gradient(cmap='coolwarm')"
   ]
  },
  {
   "cell_type": "code",
   "execution_count": 5,
   "id": "ff4551e9",
   "metadata": {
    "execution": {
     "iopub.execute_input": "2023-03-23T02:32:57.021746Z",
     "iopub.status.busy": "2023-03-23T02:32:57.021434Z",
     "iopub.status.idle": "2023-03-23T02:32:57.087351Z",
     "shell.execute_reply": "2023-03-23T02:32:57.085885Z"
    },
    "papermill": {
     "duration": 0.076225,
     "end_time": "2023-03-23T02:32:57.089959",
     "exception": false,
     "start_time": "2023-03-23T02:32:57.013734",
     "status": "completed"
    },
    "tags": []
   },
   "outputs": [
    {
     "name": "stdout",
     "output_type": "stream",
     "text": [
      "Using device: cuda\n"
     ]
    }
   ],
   "source": [
    "device = torch.device('cuda' if torch.cuda.is_available() else 'cpu')\n",
    "print(f\"Using device: {device.type}\")"
   ]
  },
  {
   "cell_type": "code",
   "execution_count": 6,
   "id": "0cc94ca3",
   "metadata": {
    "_cell_guid": "b1076dfc-b9ad-4769-8c92-a6c4dae69d19",
    "_uuid": "8f2839f25d086af736a60e9eeb907d3b93b6e0e5",
    "execution": {
     "iopub.execute_input": "2023-03-23T02:32:57.105831Z",
     "iopub.status.busy": "2023-03-23T02:32:57.105502Z",
     "iopub.status.idle": "2023-03-23T02:32:57.114232Z",
     "shell.execute_reply": "2023-03-23T02:32:57.112974Z"
    },
    "papermill": {
     "duration": 0.019587,
     "end_time": "2023-03-23T02:32:57.116717",
     "exception": false,
     "start_time": "2023-03-23T02:32:57.097130",
     "status": "completed"
    },
    "tags": []
   },
   "outputs": [],
   "source": [
    "class NPZDataset(Dataset):\n",
    "    def __init__(self, path, csv, transform=None):\n",
    "        self.path = path\n",
    "        self.water_indexes = pd.read_csv(csv)\n",
    "        self.files = list(Path(path).glob('*.npz'))\n",
    "        self.transform = transform\n",
    "\n",
    "    def __len__(self):\n",
    "        return len(self.files)\n",
    "\n",
    "    def __getitem__(self, idx):\n",
    "        numpy_array = np.load(str(self.files[idx]))['x']\n",
    "        sat_img = np.moveaxis(numpy_array, 0, -1)[:, :, 2:5].transpose((-1, 0, 1))\n",
    "        torch_array = torch.from_numpy(sat_img)\n",
    "        if self.transform is not None:\n",
    "            torch_array = self.transform(torch_array)\n",
    "        y = self.water_indexes.iloc[idx, 8]\n",
    "        y = torch.tensor(y, dtype=torch.float64)\n",
    "        return torch_array.cuda(), y.cuda()"
   ]
  },
  {
   "cell_type": "code",
   "execution_count": 7,
   "id": "e73887a3",
   "metadata": {
    "execution": {
     "iopub.execute_input": "2023-03-23T02:32:57.131786Z",
     "iopub.status.busy": "2023-03-23T02:32:57.131472Z",
     "iopub.status.idle": "2023-03-23T02:32:58.756212Z",
     "shell.execute_reply": "2023-03-23T02:32:58.755218Z"
    },
    "papermill": {
     "duration": 1.635391,
     "end_time": "2023-03-23T02:32:58.758965",
     "exception": false,
     "start_time": "2023-03-23T02:32:57.123574",
     "status": "completed"
    },
    "tags": []
   },
   "outputs": [],
   "source": [
    "train_dir = \"/kaggle/input/bizinnovate-2023/dhs_train\"\n",
    "train_y = \"/kaggle/input/bizinnovate-2023/train.csv\"\n",
    "valid_dir = \"/kaggle/input/bizinnovate-2023/dhs_test\"\n",
    "\n",
    "transform = transforms.Compose([\n",
    "        transforms.Normalize(torch.tensor([0.1198, 0.2080, 0.1475]), torch.tensor([0.0219, 0.0451, 0.0345]))\n",
    "])\n",
    "\n",
    "train_data = NPZDataset(train_dir, train_y, transform=transform)\n",
    "train_loader = DataLoader(train_data, batch_size=64, shuffle=True)\n",
    "\n",
    "# valid_data = NPZDataset(valid_dir)\n",
    "# valid_loader = DataLoader(valid_data, batch_size=64, shuffle=True)"
   ]
  },
  {
   "cell_type": "code",
   "execution_count": 8,
   "id": "7e83f85c",
   "metadata": {
    "execution": {
     "iopub.execute_input": "2023-03-23T02:32:58.772420Z",
     "iopub.status.busy": "2023-03-23T02:32:58.772095Z",
     "iopub.status.idle": "2023-03-23T02:33:03.810759Z",
     "shell.execute_reply": "2023-03-23T02:33:03.809722Z"
    },
    "papermill": {
     "duration": 5.048536,
     "end_time": "2023-03-23T02:33:03.813608",
     "exception": false,
     "start_time": "2023-03-23T02:32:58.765072",
     "status": "completed"
    },
    "tags": []
   },
   "outputs": [],
   "source": [
    "imgs, labs = next(iter(train_loader))"
   ]
  },
  {
   "cell_type": "code",
   "execution_count": 9,
   "id": "1be7957b",
   "metadata": {
    "execution": {
     "iopub.execute_input": "2023-03-23T02:33:03.832768Z",
     "iopub.status.busy": "2023-03-23T02:33:03.832295Z",
     "iopub.status.idle": "2023-03-23T02:33:03.839055Z",
     "shell.execute_reply": "2023-03-23T02:33:03.838087Z"
    },
    "papermill": {
     "duration": 0.018952,
     "end_time": "2023-03-23T02:33:03.841579",
     "exception": false,
     "start_time": "2023-03-23T02:33:03.822627",
     "status": "completed"
    },
    "tags": []
   },
   "outputs": [
    {
     "data": {
      "text/plain": [
       "torch.Size([64, 3, 255, 255])"
      ]
     },
     "execution_count": 9,
     "metadata": {},
     "output_type": "execute_result"
    }
   ],
   "source": [
    "imgs.shape"
   ]
  },
  {
   "cell_type": "code",
   "execution_count": 10,
   "id": "a5598ffd",
   "metadata": {
    "execution": {
     "iopub.execute_input": "2023-03-23T02:33:03.859933Z",
     "iopub.status.busy": "2023-03-23T02:33:03.859623Z",
     "iopub.status.idle": "2023-03-23T02:33:03.865952Z",
     "shell.execute_reply": "2023-03-23T02:33:03.865001Z"
    },
    "papermill": {
     "duration": 0.018437,
     "end_time": "2023-03-23T02:33:03.868611",
     "exception": false,
     "start_time": "2023-03-23T02:33:03.850174",
     "status": "completed"
    },
    "tags": []
   },
   "outputs": [
    {
     "data": {
      "text/plain": [
       "torch.Size([64])"
      ]
     },
     "execution_count": 10,
     "metadata": {},
     "output_type": "execute_result"
    }
   ],
   "source": [
    "labs.shape"
   ]
  },
  {
   "cell_type": "code",
   "execution_count": 11,
   "id": "66322ab8",
   "metadata": {
    "execution": {
     "iopub.execute_input": "2023-03-23T02:33:03.887445Z",
     "iopub.status.busy": "2023-03-23T02:33:03.887038Z",
     "iopub.status.idle": "2023-03-23T02:33:03.891790Z",
     "shell.execute_reply": "2023-03-23T02:33:03.890610Z"
    },
    "papermill": {
     "duration": 0.017188,
     "end_time": "2023-03-23T02:33:03.894776",
     "exception": false,
     "start_time": "2023-03-23T02:33:03.877588",
     "status": "completed"
    },
    "tags": []
   },
   "outputs": [],
   "source": [
    "# from torchvision import utils\n",
    "\n",
    "# plt.figure(figsize=(10, 8))\n",
    "# plt.axis(\"off\")\n",
    "# plt.title(\"Sample Training Images\")\n",
    "# plt.imshow(np.transpose(utils.make_grid(imgs, padding=1, normalize=True),(1,2,0)));"
   ]
  },
  {
   "cell_type": "code",
   "execution_count": 12,
   "id": "a5c879cd",
   "metadata": {
    "execution": {
     "iopub.execute_input": "2023-03-23T02:33:03.913803Z",
     "iopub.status.busy": "2023-03-23T02:33:03.913368Z",
     "iopub.status.idle": "2023-03-23T02:33:03.933430Z",
     "shell.execute_reply": "2023-03-23T02:33:03.932443Z"
    },
    "papermill": {
     "duration": 0.032218,
     "end_time": "2023-03-23T02:33:03.935772",
     "exception": false,
     "start_time": "2023-03-23T02:33:03.903554",
     "status": "completed"
    },
    "tags": []
   },
   "outputs": [],
   "source": [
    "def plot_convs(image, conv_layer, axis=False):\n",
    "    \"\"\"Plot convs with matplotlib. Sorry for this lazy code :D\"\"\"\n",
    "    filtered_image = conv_layer(image[None, None, :])\n",
    "    n = filtered_image.shape[1]\n",
    "    if n == 1:\n",
    "        fig, (ax1, ax2) = plt.subplots(figsize=(8, 4), ncols=2)\n",
    "        ax1.imshow(image, cmap='gray')\n",
    "        ax1.set_title(\"Original\")\n",
    "        ax2.imshow(filtered_image.detach().squeeze(), cmap='gray')  \n",
    "        ax2.set_title(\"Filter 1\")\n",
    "        ax1.grid(False)\n",
    "        ax2.grid(False)\n",
    "        if not axis:\n",
    "            ax1.axis(False)\n",
    "            ax2.axis(False)\n",
    "        plt.tight_layout();\n",
    "    elif n == 2:\n",
    "        filtered_image_1 = filtered_image[:,0,:,:]\n",
    "        filtered_image_2 = filtered_image[:,1,:,:]\n",
    "        fig, (ax1, ax2, ax3) = plt.subplots(figsize=(10, 4), ncols=3)\n",
    "        ax1.imshow(image, cmap='gray')\n",
    "        ax1.set_title(\"Original\")\n",
    "        ax2.imshow(filtered_image_1.detach().squeeze(), cmap='gray')  \n",
    "        ax2.set_title(\"Filter 1\")\n",
    "        ax3.imshow(filtered_image_2.detach().squeeze(), cmap='gray')  \n",
    "        ax3.set_title(\"Filter 2\")\n",
    "        ax1.grid(False)\n",
    "        ax2.grid(False)\n",
    "        ax3.grid(False)\n",
    "        if not axis:\n",
    "            ax1.axis(False)\n",
    "            ax2.axis(False)\n",
    "            ax3.axis(False)\n",
    "        plt.tight_layout();\n",
    "    elif n == 3:\n",
    "        filtered_image_1 = filtered_image[:,0,:,:]\n",
    "        filtered_image_2 = filtered_image[:,1,:,:]\n",
    "        filtered_image_3 = filtered_image[:,2,:,:]\n",
    "        fig, (ax1, ax2, ax3, ax4) = plt.subplots(figsize=(12, 4), ncols=4)\n",
    "        ax1.imshow(image, cmap='gray')\n",
    "        ax1.set_title(\"Original\")\n",
    "        ax2.imshow(filtered_image_1.detach().squeeze(), cmap='gray')  \n",
    "        ax2.set_title(\"Filter 1\")\n",
    "        ax3.imshow(filtered_image_2.detach().squeeze(), cmap='gray')  \n",
    "        ax3.set_title(\"Filter 2\")\n",
    "        ax4.imshow(filtered_image_3.detach().squeeze(), cmap='gray')  \n",
    "        ax4.set_title(\"Filter 3\")\n",
    "        ax1.grid(False)\n",
    "        ax2.grid(False)\n",
    "        ax3.grid(False)\n",
    "        ax4.grid(False)\n",
    "        if not axis:\n",
    "            ax1.axis(False)\n",
    "            ax2.axis(False)\n",
    "            ax3.axis(False)\n",
    "            ax4.axis(False)\n",
    "        plt.tight_layout();\n",
    "    \n",
    "# conv_layer = torch.nn.Conv2d(1, 1, kernel_size=(3, 3))\n",
    "# plot_convs(imgs[0].squeeze().detach(), conv_layer)"
   ]
  },
  {
   "cell_type": "code",
   "execution_count": 13,
   "id": "fdca8493",
   "metadata": {
    "execution": {
     "iopub.execute_input": "2023-03-23T02:33:03.954293Z",
     "iopub.status.busy": "2023-03-23T02:33:03.953967Z",
     "iopub.status.idle": "2023-03-23T02:33:03.958027Z",
     "shell.execute_reply": "2023-03-23T02:33:03.957067Z"
    },
    "papermill": {
     "duration": 0.016284,
     "end_time": "2023-03-23T02:33:03.960686",
     "exception": false,
     "start_time": "2023-03-23T02:33:03.944402",
     "status": "completed"
    },
    "tags": []
   },
   "outputs": [],
   "source": [
    "# conv_layer = torch.nn.Conv2d(1, 2, kernel_size=(3, 3))\n",
    "# plot_convs(imgs[0].squeeze().detach(), conv_layer)"
   ]
  },
  {
   "cell_type": "code",
   "execution_count": 14,
   "id": "9f746760",
   "metadata": {
    "execution": {
     "iopub.execute_input": "2023-03-23T02:33:03.979102Z",
     "iopub.status.busy": "2023-03-23T02:33:03.978793Z",
     "iopub.status.idle": "2023-03-23T02:33:03.983031Z",
     "shell.execute_reply": "2023-03-23T02:33:03.982051Z"
    },
    "papermill": {
     "duration": 0.01626,
     "end_time": "2023-03-23T02:33:03.985536",
     "exception": false,
     "start_time": "2023-03-23T02:33:03.969276",
     "status": "completed"
    },
    "tags": []
   },
   "outputs": [],
   "source": [
    "# conv_layer = torch.nn.Conv2d(1, 3, kernel_size=(5, 5))\n",
    "# plot_convs(imgs[0].squeeze().detach(), conv_layer)"
   ]
  },
  {
   "cell_type": "code",
   "execution_count": 15,
   "id": "ee7a7511",
   "metadata": {
    "execution": {
     "iopub.execute_input": "2023-03-23T02:33:04.004166Z",
     "iopub.status.busy": "2023-03-23T02:33:04.003834Z",
     "iopub.status.idle": "2023-03-23T02:33:04.014418Z",
     "shell.execute_reply": "2023-03-23T02:33:04.013542Z"
    },
    "papermill": {
     "duration": 0.022284,
     "end_time": "2023-03-23T02:33:04.016427",
     "exception": false,
     "start_time": "2023-03-23T02:33:03.994143",
     "status": "completed"
    },
    "tags": []
   },
   "outputs": [],
   "source": [
    "class CNN(nn.Module):\n",
    "    def __init__(self):\n",
    "        super().__init__()\n",
    "        self.main = nn.Sequential(\n",
    "            nn.Conv2d(3, 8, (5, 5)),\n",
    "            nn.ReLU(),\n",
    "            nn.MaxPool2d((2, 2)),\n",
    "            nn.Dropout(0.2),\n",
    "\n",
    "            nn.Conv2d(8, 4, (3, 3)),\n",
    "            nn.ReLU(),\n",
    "            nn.MaxPool2d((3, 3)),\n",
    "            nn.Dropout(0.2),\n",
    "\n",
    "            nn.Flatten(),\n",
    "            nn.Linear(6724, 128),\n",
    "            nn.ReLU(),\n",
    "            nn.Linear(128, 64),\n",
    "            nn.ReLU(),\n",
    "            nn.Linear(64, 1)\n",
    "        )\n",
    "        \n",
    "    def forward(self, x):\n",
    "        out = self.main(x)\n",
    "        return out"
   ]
  },
  {
   "cell_type": "code",
   "execution_count": 16,
   "id": "2de156f9",
   "metadata": {
    "execution": {
     "iopub.execute_input": "2023-03-23T02:33:04.036055Z",
     "iopub.status.busy": "2023-03-23T02:33:04.035662Z",
     "iopub.status.idle": "2023-03-23T02:33:04.044595Z",
     "shell.execute_reply": "2023-03-23T02:33:04.043584Z"
    },
    "papermill": {
     "duration": 0.021072,
     "end_time": "2023-03-23T02:33:04.046922",
     "exception": false,
     "start_time": "2023-03-23T02:33:04.025850",
     "status": "completed"
    },
    "tags": []
   },
   "outputs": [],
   "source": [
    "def trainer(model, criterion, optimizer, dataloader, epochs=5, verbose=True):\n",
    "    \"\"\"Simple training wrapper for PyTorch network.\"\"\"\n",
    "    \n",
    "    train_loss = []\n",
    "    \n",
    "    for epoch in range(epochs):  # for each epoch\n",
    "        losses = 0\n",
    "        \n",
    "        for X, y in dataloader:  # for each batch\n",
    "            X = X.float()\n",
    "            y = y.float()\n",
    "            optimizer.zero_grad()            # Zero all the gradients w.r.t. parameters\n",
    "            \n",
    "            y_hat = model(X).flatten()       # Forward pass to get output\n",
    "            loss = criterion(y_hat, y)       # Calculate loss based on output\n",
    "            loss.backward()                  # Calculate gradients w.r.t. parameters\n",
    "            optimizer.step()                 # Update parameters\n",
    "\n",
    "            losses += loss.item()            # Add loss for this batch to running total\n",
    "        \n",
    "        if verbose:\n",
    "            print(f\"epoch: {epoch + 1}, loss: {losses / len(dataloader):.4f}\")\n",
    "            \n",
    "        train_loss.append(losses / len(dataloader))  # loss = total loss in epoch / number of batches = loss per batch\n",
    "        \n",
    "    return train_loss"
   ]
  },
  {
   "cell_type": "code",
   "execution_count": 17,
   "id": "c7baaeb9",
   "metadata": {
    "execution": {
     "iopub.execute_input": "2023-03-23T02:33:04.065383Z",
     "iopub.status.busy": "2023-03-23T02:33:04.065058Z"
    },
    "papermill": {
     "duration": null,
     "end_time": null,
     "exception": false,
     "start_time": "2023-03-23T02:33:04.055573",
     "status": "running"
    },
    "tags": []
   },
   "outputs": [
    {
     "name": "stdout",
     "output_type": "stream",
     "text": [
      "epoch: 1, loss: 1.0315\n"
     ]
    },
    {
     "name": "stdout",
     "output_type": "stream",
     "text": [
      "epoch: 2, loss: 0.7660\n"
     ]
    },
    {
     "name": "stdout",
     "output_type": "stream",
     "text": [
      "epoch: 3, loss: 0.7602\n"
     ]
    },
    {
     "name": "stdout",
     "output_type": "stream",
     "text": [
      "epoch: 4, loss: 0.7625\n"
     ]
    },
    {
     "name": "stdout",
     "output_type": "stream",
     "text": [
      "epoch: 5, loss: 0.7543\n"
     ]
    },
    {
     "name": "stdout",
     "output_type": "stream",
     "text": [
      "epoch: 6, loss: 0.7534\n"
     ]
    },
    {
     "name": "stdout",
     "output_type": "stream",
     "text": [
      "epoch: 7, loss: 0.7517\n"
     ]
    },
    {
     "name": "stdout",
     "output_type": "stream",
     "text": [
      "epoch: 8, loss: 0.7495\n"
     ]
    },
    {
     "name": "stdout",
     "output_type": "stream",
     "text": [
      "epoch: 9, loss: 0.7413\n"
     ]
    },
    {
     "name": "stdout",
     "output_type": "stream",
     "text": [
      "epoch: 10, loss: 0.7379\n"
     ]
    },
    {
     "name": "stdout",
     "output_type": "stream",
     "text": [
      "epoch: 11, loss: 0.7450\n"
     ]
    },
    {
     "name": "stdout",
     "output_type": "stream",
     "text": [
      "epoch: 12, loss: 0.7414\n"
     ]
    },
    {
     "name": "stdout",
     "output_type": "stream",
     "text": [
      "epoch: 13, loss: 0.7390\n"
     ]
    },
    {
     "name": "stdout",
     "output_type": "stream",
     "text": [
      "epoch: 14, loss: 0.7366\n"
     ]
    },
    {
     "name": "stdout",
     "output_type": "stream",
     "text": [
      "epoch: 15, loss: 0.7415\n"
     ]
    },
    {
     "name": "stdout",
     "output_type": "stream",
     "text": [
      "epoch: 16, loss: 0.7376\n"
     ]
    },
    {
     "name": "stdout",
     "output_type": "stream",
     "text": [
      "epoch: 17, loss: 0.7582\n"
     ]
    },
    {
     "name": "stdout",
     "output_type": "stream",
     "text": [
      "epoch: 18, loss: 0.7417\n"
     ]
    },
    {
     "name": "stdout",
     "output_type": "stream",
     "text": [
      "epoch: 19, loss: 0.7370\n"
     ]
    },
    {
     "name": "stdout",
     "output_type": "stream",
     "text": [
      "epoch: 20, loss: 0.7432\n"
     ]
    },
    {
     "name": "stdout",
     "output_type": "stream",
     "text": [
      "epoch: 21, loss: 0.7346\n"
     ]
    },
    {
     "name": "stdout",
     "output_type": "stream",
     "text": [
      "epoch: 22, loss: 0.7372\n"
     ]
    },
    {
     "name": "stdout",
     "output_type": "stream",
     "text": [
      "epoch: 23, loss: 0.7354\n"
     ]
    },
    {
     "name": "stdout",
     "output_type": "stream",
     "text": [
      "epoch: 24, loss: 0.7344\n"
     ]
    },
    {
     "name": "stdout",
     "output_type": "stream",
     "text": [
      "epoch: 25, loss: 0.7346\n"
     ]
    },
    {
     "name": "stdout",
     "output_type": "stream",
     "text": [
      "epoch: 26, loss: 0.7297\n"
     ]
    },
    {
     "name": "stdout",
     "output_type": "stream",
     "text": [
      "epoch: 27, loss: 0.7306\n"
     ]
    },
    {
     "name": "stdout",
     "output_type": "stream",
     "text": [
      "epoch: 28, loss: 0.7298\n"
     ]
    },
    {
     "name": "stdout",
     "output_type": "stream",
     "text": [
      "epoch: 29, loss: 0.7263\n"
     ]
    },
    {
     "name": "stdout",
     "output_type": "stream",
     "text": [
      "epoch: 30, loss: 0.7266\n"
     ]
    },
    {
     "name": "stdout",
     "output_type": "stream",
     "text": [
      "epoch: 31, loss: 0.7265\n"
     ]
    },
    {
     "name": "stdout",
     "output_type": "stream",
     "text": [
      "epoch: 32, loss: 0.7205\n"
     ]
    },
    {
     "name": "stdout",
     "output_type": "stream",
     "text": [
      "epoch: 33, loss: 0.7186\n"
     ]
    },
    {
     "name": "stdout",
     "output_type": "stream",
     "text": [
      "epoch: 34, loss: 0.7227\n"
     ]
    },
    {
     "name": "stdout",
     "output_type": "stream",
     "text": [
      "epoch: 35, loss: 0.7181\n"
     ]
    },
    {
     "name": "stdout",
     "output_type": "stream",
     "text": [
      "epoch: 36, loss: 0.7247\n"
     ]
    },
    {
     "name": "stdout",
     "output_type": "stream",
     "text": [
      "epoch: 37, loss: 0.7174\n"
     ]
    },
    {
     "name": "stdout",
     "output_type": "stream",
     "text": [
      "epoch: 38, loss: 0.7171\n"
     ]
    },
    {
     "name": "stdout",
     "output_type": "stream",
     "text": [
      "epoch: 39, loss: 0.7110\n"
     ]
    },
    {
     "name": "stdout",
     "output_type": "stream",
     "text": [
      "epoch: 40, loss: 0.7100\n"
     ]
    },
    {
     "name": "stdout",
     "output_type": "stream",
     "text": [
      "epoch: 41, loss: 0.7084\n"
     ]
    },
    {
     "name": "stdout",
     "output_type": "stream",
     "text": [
      "epoch: 42, loss: 0.7110\n"
     ]
    },
    {
     "name": "stdout",
     "output_type": "stream",
     "text": [
      "epoch: 43, loss: 0.7059\n"
     ]
    },
    {
     "name": "stdout",
     "output_type": "stream",
     "text": [
      "epoch: 44, loss: 0.7071\n"
     ]
    },
    {
     "name": "stdout",
     "output_type": "stream",
     "text": [
      "epoch: 45, loss: 0.7166\n"
     ]
    },
    {
     "name": "stdout",
     "output_type": "stream",
     "text": [
      "epoch: 46, loss: 0.7143\n"
     ]
    },
    {
     "name": "stdout",
     "output_type": "stream",
     "text": [
      "epoch: 47, loss: 0.7219\n"
     ]
    },
    {
     "name": "stdout",
     "output_type": "stream",
     "text": [
      "epoch: 48, loss: 0.7066\n"
     ]
    },
    {
     "name": "stdout",
     "output_type": "stream",
     "text": [
      "epoch: 49, loss: 0.7003\n"
     ]
    },
    {
     "name": "stdout",
     "output_type": "stream",
     "text": [
      "epoch: 50, loss: 0.7023\n"
     ]
    },
    {
     "name": "stdout",
     "output_type": "stream",
     "text": [
      "epoch: 51, loss: 0.6981\n"
     ]
    },
    {
     "name": "stdout",
     "output_type": "stream",
     "text": [
      "epoch: 52, loss: 0.6984\n"
     ]
    },
    {
     "name": "stdout",
     "output_type": "stream",
     "text": [
      "epoch: 53, loss: 0.6970\n"
     ]
    },
    {
     "name": "stdout",
     "output_type": "stream",
     "text": [
      "epoch: 54, loss: 0.6979\n"
     ]
    },
    {
     "name": "stdout",
     "output_type": "stream",
     "text": [
      "epoch: 55, loss: 0.6954\n"
     ]
    },
    {
     "name": "stdout",
     "output_type": "stream",
     "text": [
      "epoch: 56, loss: 0.6971\n"
     ]
    },
    {
     "name": "stdout",
     "output_type": "stream",
     "text": [
      "epoch: 57, loss: 0.6998\n"
     ]
    },
    {
     "name": "stdout",
     "output_type": "stream",
     "text": [
      "epoch: 58, loss: 0.6935\n"
     ]
    },
    {
     "name": "stdout",
     "output_type": "stream",
     "text": [
      "epoch: 59, loss: 0.6949\n"
     ]
    },
    {
     "name": "stdout",
     "output_type": "stream",
     "text": [
      "epoch: 60, loss: 0.6910\n"
     ]
    },
    {
     "name": "stdout",
     "output_type": "stream",
     "text": [
      "epoch: 61, loss: 0.6858\n"
     ]
    },
    {
     "name": "stdout",
     "output_type": "stream",
     "text": [
      "epoch: 62, loss: 0.6841\n"
     ]
    },
    {
     "name": "stdout",
     "output_type": "stream",
     "text": [
      "epoch: 63, loss: 0.6868\n"
     ]
    },
    {
     "name": "stdout",
     "output_type": "stream",
     "text": [
      "epoch: 64, loss: 0.6840\n"
     ]
    },
    {
     "name": "stdout",
     "output_type": "stream",
     "text": [
      "epoch: 65, loss: 0.6846\n"
     ]
    },
    {
     "name": "stdout",
     "output_type": "stream",
     "text": [
      "epoch: 66, loss: 0.6804\n"
     ]
    },
    {
     "name": "stdout",
     "output_type": "stream",
     "text": [
      "epoch: 67, loss: 0.6797\n"
     ]
    },
    {
     "name": "stdout",
     "output_type": "stream",
     "text": [
      "epoch: 68, loss: 0.6765\n"
     ]
    },
    {
     "name": "stdout",
     "output_type": "stream",
     "text": [
      "epoch: 69, loss: 0.6742\n"
     ]
    },
    {
     "name": "stdout",
     "output_type": "stream",
     "text": [
      "epoch: 70, loss: 0.6709\n"
     ]
    },
    {
     "name": "stdout",
     "output_type": "stream",
     "text": [
      "epoch: 71, loss: 0.6686\n"
     ]
    },
    {
     "name": "stdout",
     "output_type": "stream",
     "text": [
      "epoch: 72, loss: 0.6729\n"
     ]
    },
    {
     "name": "stdout",
     "output_type": "stream",
     "text": [
      "epoch: 73, loss: 0.6663\n"
     ]
    },
    {
     "name": "stdout",
     "output_type": "stream",
     "text": [
      "epoch: 74, loss: 0.6667\n"
     ]
    },
    {
     "name": "stdout",
     "output_type": "stream",
     "text": [
      "epoch: 75, loss: 0.6620\n"
     ]
    },
    {
     "name": "stdout",
     "output_type": "stream",
     "text": [
      "epoch: 76, loss: 0.6574\n"
     ]
    },
    {
     "name": "stdout",
     "output_type": "stream",
     "text": [
      "epoch: 77, loss: 0.6532\n"
     ]
    },
    {
     "name": "stdout",
     "output_type": "stream",
     "text": [
      "epoch: 78, loss: 0.6540\n"
     ]
    },
    {
     "name": "stdout",
     "output_type": "stream",
     "text": [
      "epoch: 79, loss: 0.6479\n"
     ]
    },
    {
     "name": "stdout",
     "output_type": "stream",
     "text": [
      "epoch: 80, loss: 0.6476\n"
     ]
    },
    {
     "name": "stdout",
     "output_type": "stream",
     "text": [
      "epoch: 81, loss: 0.6489\n"
     ]
    },
    {
     "name": "stdout",
     "output_type": "stream",
     "text": [
      "epoch: 82, loss: 0.6429\n"
     ]
    },
    {
     "name": "stdout",
     "output_type": "stream",
     "text": [
      "epoch: 83, loss: 0.6392\n"
     ]
    },
    {
     "name": "stdout",
     "output_type": "stream",
     "text": [
      "epoch: 84, loss: 0.6355\n"
     ]
    },
    {
     "name": "stdout",
     "output_type": "stream",
     "text": [
      "epoch: 85, loss: 0.6392\n"
     ]
    },
    {
     "name": "stdout",
     "output_type": "stream",
     "text": [
      "epoch: 86, loss: 0.6352\n"
     ]
    },
    {
     "name": "stdout",
     "output_type": "stream",
     "text": [
      "epoch: 87, loss: 0.6343\n"
     ]
    },
    {
     "name": "stdout",
     "output_type": "stream",
     "text": [
      "epoch: 88, loss: 0.6271\n"
     ]
    },
    {
     "name": "stdout",
     "output_type": "stream",
     "text": [
      "epoch: 89, loss: 0.6279\n"
     ]
    },
    {
     "name": "stdout",
     "output_type": "stream",
     "text": [
      "epoch: 90, loss: 0.6239\n"
     ]
    },
    {
     "name": "stdout",
     "output_type": "stream",
     "text": [
      "epoch: 91, loss: 0.6294\n"
     ]
    },
    {
     "name": "stdout",
     "output_type": "stream",
     "text": [
      "epoch: 92, loss: 0.6247\n"
     ]
    },
    {
     "name": "stdout",
     "output_type": "stream",
     "text": [
      "epoch: 93, loss: 0.6145\n"
     ]
    },
    {
     "name": "stdout",
     "output_type": "stream",
     "text": [
      "epoch: 94, loss: 0.6155\n"
     ]
    },
    {
     "name": "stdout",
     "output_type": "stream",
     "text": [
      "epoch: 95, loss: 0.6124\n"
     ]
    },
    {
     "name": "stdout",
     "output_type": "stream",
     "text": [
      "epoch: 96, loss: 0.6092\n"
     ]
    },
    {
     "name": "stdout",
     "output_type": "stream",
     "text": [
      "epoch: 97, loss: 0.6015\n"
     ]
    },
    {
     "name": "stdout",
     "output_type": "stream",
     "text": [
      "epoch: 98, loss: 0.6069\n"
     ]
    }
   ],
   "source": [
    "model = CNN()\n",
    "model.to(device);\n",
    "criterion = nn.MSELoss()\n",
    "optimizer = torch.optim.Adam(model.parameters(), lr=2e-3)\n",
    "train_loss = trainer(model, criterion, optimizer, train_loader, epochs=100)"
   ]
  },
  {
   "cell_type": "code",
   "execution_count": null,
   "id": "95389748",
   "metadata": {
    "execution": {
     "iopub.execute_input": "2023-03-22T07:49:11.398938Z",
     "iopub.status.busy": "2023-03-22T07:49:11.398133Z",
     "iopub.status.idle": "2023-03-22T07:49:11.488493Z",
     "shell.execute_reply": "2023-03-22T07:49:11.486899Z",
     "shell.execute_reply.started": "2023-03-22T07:49:11.398894Z"
    },
    "papermill": {
     "duration": null,
     "end_time": null,
     "exception": null,
     "start_time": null,
     "status": "pending"
    },
    "tags": []
   },
   "outputs": [],
   "source": [
    "class TestNPZDataset(Dataset):\n",
    "    def __init__(self, path, transform=None):\n",
    "        self.path = path\n",
    "        self.files = list(Path(path).glob('*.npz'))\n",
    "        self.transform = transform\n",
    "\n",
    "    def __len__(self):\n",
    "        return len(self.files)\n",
    "\n",
    "    def __getitem__(self, idx):\n",
    "        numpy_array = np.load(str(self.files[idx]))['x']\n",
    "        sat_img = np.moveaxis(numpy_array, 0, -1)[:, :, 2:5].transpose((-1, 0, 1))\n",
    "        torch_array = torch.from_numpy(sat_img)\n",
    "        if self.transform is not None:\n",
    "            torch_array = self.transform(torch_array)\n",
    "        return torch_array.cuda()"
   ]
  },
  {
   "cell_type": "code",
   "execution_count": null,
   "id": "bab8db21",
   "metadata": {
    "papermill": {
     "duration": null,
     "end_time": null,
     "exception": null,
     "start_time": null,
     "status": "pending"
    },
    "tags": []
   },
   "outputs": [],
   "source": [
    "valid_data = TestNPZDataset(valid_dir, transform=transform)\n",
    "valid_loader = DataLoader(valid_data, batch_size=64, shuffle=True)"
   ]
  },
  {
   "cell_type": "code",
   "execution_count": null,
   "id": "fd881851",
   "metadata": {
    "papermill": {
     "duration": null,
     "end_time": null,
     "exception": null,
     "start_time": null,
     "status": "pending"
    },
    "tags": []
   },
   "outputs": [],
   "source": [
    "def predict(model, dataloader):\n",
    "    preds = []\n",
    "    for X in dataloader:\n",
    "        output = model(X)\n",
    "        preds.append(output)\n",
    "    return preds"
   ]
  },
  {
   "cell_type": "code",
   "execution_count": null,
   "id": "7e7add23",
   "metadata": {
    "papermill": {
     "duration": null,
     "end_time": null,
     "exception": null,
     "start_time": null,
     "status": "pending"
    },
    "tags": []
   },
   "outputs": [],
   "source": [
    "predictions = predict(model, valid_loader)\n",
    "test['water_index'] = predictions\n",
    "submission = test[['DHSID_EA', 'water_index']]\n",
    "submission.to_csv('test.csv', index=False)"
   ]
  },
  {
   "cell_type": "code",
   "execution_count": null,
   "id": "7894d134",
   "metadata": {
    "execution": {
     "iopub.execute_input": "2023-03-19T23:11:50.029514Z",
     "iopub.status.busy": "2023-03-19T23:11:50.029069Z",
     "iopub.status.idle": "2023-03-19T23:11:50.039835Z",
     "shell.execute_reply": "2023-03-19T23:11:50.038246Z",
     "shell.execute_reply.started": "2023-03-19T23:11:50.029479Z"
    },
    "papermill": {
     "duration": null,
     "end_time": null,
     "exception": null,
     "start_time": null,
     "status": "pending"
    },
    "tags": []
   },
   "outputs": [],
   "source": [
    "# class AE(nn.Module):\n",
    "#     def __init__(self, **kwargs):\n",
    "#         super().__init__()\n",
    "#         self.encoder_hidden_layer = nn.Linear(\n",
    "#             in_features=kwargs[\"input_shape\"], out_features=128\n",
    "#         )\n",
    "#         self.encoder_output_layer = nn.Linear(\n",
    "#             in_features=128, out_features=128\n",
    "#         )\n",
    "#         self.decoder_hidden_layer = nn.Linear(\n",
    "#             in_features=128, out_features=128\n",
    "#         )\n",
    "#         self.decoder_output_layer = nn.Linear(\n",
    "#             in_features=128, out_features=kwargs[\"input_shape\"]\n",
    "#         )\n",
    "\n",
    "#     def forward(self, features):\n",
    "#         activation = self.encoder_hidden_layer(features)\n",
    "#         activation = torch.relu(activation)\n",
    "#         code = self.encoder_output_layer(activation)\n",
    "#         code = torch.relu(code)\n",
    "#         activation = self.decoder_hidden_layer(code)\n",
    "#         activation = torch.relu(activation)\n",
    "#         activation = self.decoder_output_layer(activation)\n",
    "#         reconstructed = torch.relu(activation)\n",
    "#         return reconstructed"
   ]
  },
  {
   "cell_type": "code",
   "execution_count": null,
   "id": "f70aa66b",
   "metadata": {
    "papermill": {
     "duration": null,
     "end_time": null,
     "exception": null,
     "start_time": null,
     "status": "pending"
    },
    "tags": []
   },
   "outputs": [],
   "source": [
    "\n",
    "# #  use gpu if available\n",
    "# device = torch.device(\"cuda\" if torch.cuda.is_available() else \"cpu\")\n",
    "\n",
    "# # create a model from `AE` autoencoder class\n",
    "# # load it to the specified device, either gpu or cpu\n",
    "# model = AE(input_shape=784).to(device)\n",
    "\n",
    "# # create an optimizer object\n",
    "# # Adam optimizer with learning rate 1e-3\n",
    "# optimizer = optim.Adam(model.parameters(), lr=1e-3)\n",
    "\n",
    "# # mean-squared error loss\n",
    "# criterion = nn.MSELoss()"
   ]
  },
  {
   "cell_type": "code",
   "execution_count": null,
   "id": "5d102d11",
   "metadata": {
    "papermill": {
     "duration": null,
     "end_time": null,
     "exception": null,
     "start_time": null,
     "status": "pending"
    },
    "tags": []
   },
   "outputs": [],
   "source": []
  }
 ],
 "metadata": {
  "kernelspec": {
   "display_name": "Python 3",
   "language": "python",
   "name": "python3"
  },
  "language_info": {
   "codemirror_mode": {
    "name": "ipython",
    "version": 3
   },
   "file_extension": ".py",
   "mimetype": "text/x-python",
   "name": "python",
   "nbconvert_exporter": "python",
   "pygments_lexer": "ipython3",
   "version": "3.6.4"
  },
  "papermill": {
   "default_parameters": {},
   "duration": null,
   "end_time": null,
   "environment_variables": {},
   "exception": null,
   "input_path": "__notebook__.ipynb",
   "output_path": "__notebook__.ipynb",
   "parameters": {},
   "start_time": "2023-03-23T02:32:33.457034",
   "version": "2.4.0"
  }
 },
 "nbformat": 4,
 "nbformat_minor": 5
}
