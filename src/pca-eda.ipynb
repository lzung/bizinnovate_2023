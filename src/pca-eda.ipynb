{
 "cells": [
  {
   "cell_type": "code",
   "execution_count": 1,
   "id": "eb054de0",
   "metadata": {
    "execution": {
     "iopub.execute_input": "2023-03-16T20:19:50.209898Z",
     "iopub.status.busy": "2023-03-16T20:19:50.209465Z",
     "iopub.status.idle": "2023-03-16T20:19:55.998517Z",
     "shell.execute_reply": "2023-03-16T20:19:55.996888Z"
    },
    "papermill": {
     "duration": 5.815901,
     "end_time": "2023-03-16T20:19:56.001732",
     "exception": false,
     "start_time": "2023-03-16T20:19:50.185831",
     "status": "completed"
    },
    "tags": []
   },
   "outputs": [
    {
     "name": "stderr",
     "output_type": "stream",
     "text": [
      "/opt/conda/lib/python3.7/site-packages/geopandas/_compat.py:115: UserWarning: The Shapely GEOS version (3.9.1-CAPI-1.14.2) is incompatible with the GEOS version PyGEOS was compiled with (3.10.4-CAPI-1.16.2). Conversions between both will be slow.\n",
      "  shapely_geos_version, geos_capi_version_string\n"
     ]
    }
   ],
   "source": [
    "import warnings\n",
    "import numpy as np\n",
    "import osmnx as ox\n",
    "import pandas as pd\n",
    "import geopandas as gpd\n",
    "import plotly.express as px\n",
    "# from skgstat import Variogram\n",
    "import matplotlib.pyplot as plt\n",
    "from shapely.geometry import Point, Polygon\n",
    "# from pykrige.ok import OrdinaryKriging\n",
    "from scipy.interpolate import NearestNDInterpolator\n",
    "from tobler.area_weighted import area_interpolate\n",
    "import itertools\n",
    "\n",
    "# Plotting defaults\n",
    "plt.style.use('ggplot')\n",
    "px.defaults.height = 400; px.defaults.width = 620\n",
    "plt.rcParams.update({'font.size': 16, 'axes.labelweight': 'bold', 'figure.figsize': (6, 6), 'axes.grid': False})"
   ]
  },
  {
   "cell_type": "code",
   "execution_count": 2,
   "id": "d28331cf",
   "metadata": {
    "execution": {
     "iopub.execute_input": "2023-03-16T20:19:56.044280Z",
     "iopub.status.busy": "2023-03-16T20:19:56.043802Z",
     "iopub.status.idle": "2023-03-16T20:19:59.265272Z",
     "shell.execute_reply": "2023-03-16T20:19:59.263701Z"
    },
    "papermill": {
     "duration": 3.246076,
     "end_time": "2023-03-16T20:19:59.267461",
     "exception": true,
     "start_time": "2023-03-16T20:19:56.021385",
     "status": "failed"
    },
    "tags": []
   },
   "outputs": [
    {
     "ename": "ModuleNotFoundError",
     "evalue": "No module named 'torchsummary'",
     "output_type": "error",
     "traceback": [
      "\u001b[0;31m---------------------------------------------------------------------------\u001b[0m",
      "\u001b[0;31mModuleNotFoundError\u001b[0m                       Traceback (most recent call last)",
      "\u001b[0;32m/tmp/ipykernel_19/3718255563.py\u001b[0m in \u001b[0;36m<module>\u001b[0;34m\u001b[0m\n\u001b[1;32m      4\u001b[0m \u001b[0;32mfrom\u001b[0m \u001b[0mtorch\u001b[0m \u001b[0;32mimport\u001b[0m \u001b[0mnn\u001b[0m\u001b[0;34m,\u001b[0m \u001b[0moptim\u001b[0m\u001b[0;34m\u001b[0m\u001b[0;34m\u001b[0m\u001b[0m\n\u001b[1;32m      5\u001b[0m \u001b[0;32mfrom\u001b[0m \u001b[0mtorchvision\u001b[0m \u001b[0;32mimport\u001b[0m \u001b[0mtransforms\u001b[0m\u001b[0;34m,\u001b[0m \u001b[0mmodels\u001b[0m\u001b[0;34m,\u001b[0m \u001b[0mdatasets\u001b[0m\u001b[0;34m\u001b[0m\u001b[0;34m\u001b[0m\u001b[0m\n\u001b[0;32m----> 6\u001b[0;31m \u001b[0;32mfrom\u001b[0m \u001b[0mtorchsummary\u001b[0m \u001b[0;32mimport\u001b[0m \u001b[0msummary\u001b[0m\u001b[0;34m\u001b[0m\u001b[0;34m\u001b[0m\u001b[0m\n\u001b[0m\u001b[1;32m      7\u001b[0m \u001b[0;32mfrom\u001b[0m \u001b[0mPIL\u001b[0m \u001b[0;32mimport\u001b[0m \u001b[0mImage\u001b[0m\u001b[0;34m\u001b[0m\u001b[0;34m\u001b[0m\u001b[0m\n\u001b[1;32m      8\u001b[0m \u001b[0;32mfrom\u001b[0m \u001b[0msklearn\u001b[0m\u001b[0;34m.\u001b[0m\u001b[0mlinear_model\u001b[0m \u001b[0;32mimport\u001b[0m \u001b[0mLogisticRegression\u001b[0m\u001b[0;34m\u001b[0m\u001b[0;34m\u001b[0m\u001b[0m\n",
      "\u001b[0;31mModuleNotFoundError\u001b[0m: No module named 'torchsummary'"
     ]
    }
   ],
   "source": [
    "import os\n",
    "import torch\n",
    "import torchvision\n",
    "from torch import nn, optim\n",
    "from torchvision import transforms, models, datasets\n",
    "from torchsummary import summary\n",
    "from PIL import Image\n",
    "from sklearn.linear_model import LogisticRegression\n",
    "from sklearn.preprocessing import StandardScaler"
   ]
  },
  {
   "cell_type": "code",
   "execution_count": null,
   "id": "a3e76370",
   "metadata": {
    "execution": {
     "iopub.execute_input": "2023-03-16T01:53:22.246081Z",
     "iopub.status.busy": "2023-03-16T01:53:22.245658Z",
     "iopub.status.idle": "2023-03-16T01:53:22.256333Z",
     "shell.execute_reply": "2023-03-16T01:53:22.254854Z",
     "shell.execute_reply.started": "2023-03-16T01:53:22.246043Z"
    },
    "papermill": {
     "duration": null,
     "end_time": null,
     "exception": null,
     "start_time": null,
     "status": "pending"
    },
    "tags": []
   },
   "outputs": [],
   "source": [
    "def pixel2poly(x, y, z, resolution):\n",
    "    \"\"\"\n",
    "    x: x coords of cell\n",
    "    y: y coords of cell\n",
    "    z: matrix of values for each (x,y)\n",
    "    resolution: spatial resolution of each cell\n",
    "    \"\"\"\n",
    "    polygons = []\n",
    "    values = []\n",
    "    half_res = resolution / 2\n",
    "    for i, j  in itertools.product(range(len(x)), range(len(y))):\n",
    "        minx, maxx = x[i] - half_res, x[i] + half_res\n",
    "        miny, maxy = y[j] - half_res, y[j] + half_res\n",
    "        polygons.append(Polygon([(minx, miny), (minx, maxy), (maxx, maxy), (maxx, miny)]))\n",
    "        if isinstance(z, (int, float)):\n",
    "            values.append(z)\n",
    "        else:\n",
    "            values.append(z[j, i])\n",
    "    return polygons, values"
   ]
  },
  {
   "cell_type": "code",
   "execution_count": null,
   "id": "58bf0241",
   "metadata": {
    "execution": {
     "iopub.execute_input": "2023-03-16T20:15:50.909987Z",
     "iopub.status.busy": "2023-03-16T20:15:50.908296Z",
     "iopub.status.idle": "2023-03-16T20:15:51.054963Z",
     "shell.execute_reply": "2023-03-16T20:15:51.054045Z",
     "shell.execute_reply.started": "2023-03-16T20:15:50.909885Z"
    },
    "papermill": {
     "duration": null,
     "end_time": null,
     "exception": null,
     "start_time": null,
     "status": "pending"
    },
    "tags": []
   },
   "outputs": [],
   "source": [
    "train = pd.read_csv('/kaggle/input/bizinnovate-2023/train.csv')\n",
    "test = pd.read_csv('/kaggle/input/bizinnovate-2023/test_masked.csv')\n",
    "train.head()"
   ]
  },
  {
   "cell_type": "code",
   "execution_count": null,
   "id": "38ba23d2",
   "metadata": {
    "execution": {
     "iopub.execute_input": "2023-03-16T07:03:48.565866Z",
     "iopub.status.busy": "2023-03-16T07:03:48.565471Z",
     "iopub.status.idle": "2023-03-16T07:03:48.610042Z",
     "shell.execute_reply": "2023-03-16T07:03:48.608914Z",
     "shell.execute_reply.started": "2023-03-16T07:03:48.565832Z"
    },
    "papermill": {
     "duration": null,
     "end_time": null,
     "exception": null,
     "start_time": null,
     "status": "pending"
    },
    "tags": []
   },
   "outputs": [],
   "source": [
    "corr = train.corr()\n",
    "corr.style.background_gradient(cmap='coolwarm')"
   ]
  },
  {
   "cell_type": "code",
   "execution_count": null,
   "id": "228cf7c9",
   "metadata": {
    "execution": {
     "iopub.execute_input": "2023-03-16T07:08:32.767125Z",
     "iopub.status.busy": "2023-03-16T07:08:32.766542Z",
     "iopub.status.idle": "2023-03-16T07:08:33.230188Z",
     "shell.execute_reply": "2023-03-16T07:08:33.226032Z",
     "shell.execute_reply.started": "2023-03-16T07:08:32.767074Z"
    },
    "papermill": {
     "duration": null,
     "end_time": null,
     "exception": null,
     "start_time": null,
     "status": "pending"
    },
    "tags": []
   },
   "outputs": [],
   "source": [
    "train[['water_index', 'asset_index']].hist(figsize=(10,6))\n",
    "plt.show()"
   ]
  },
  {
   "cell_type": "code",
   "execution_count": null,
   "id": "4db8ddbf",
   "metadata": {
    "execution": {
     "iopub.execute_input": "2023-03-16T02:02:49.725802Z",
     "iopub.status.busy": "2023-03-16T02:02:49.724758Z",
     "iopub.status.idle": "2023-03-16T02:02:49.735178Z",
     "shell.execute_reply": "2023-03-16T02:02:49.733776Z",
     "shell.execute_reply.started": "2023-03-16T02:02:49.725735Z"
    },
    "papermill": {
     "duration": null,
     "end_time": null,
     "exception": null,
     "start_time": null,
     "status": "pending"
    },
    "tags": []
   },
   "outputs": [],
   "source": [
    "ex = np.load('/kaggle/input/bizinnovate-2023/dhs_train/IA-2015-7-00010004.npz')\n",
    "ex.files"
   ]
  },
  {
   "cell_type": "code",
   "execution_count": null,
   "id": "5252f3da",
   "metadata": {
    "execution": {
     "iopub.execute_input": "2023-03-16T02:03:14.367231Z",
     "iopub.status.busy": "2023-03-16T02:03:14.366780Z",
     "iopub.status.idle": "2023-03-16T02:03:14.386772Z",
     "shell.execute_reply": "2023-03-16T02:03:14.385611Z",
     "shell.execute_reply.started": "2023-03-16T02:03:14.367192Z"
    },
    "papermill": {
     "duration": null,
     "end_time": null,
     "exception": null,
     "start_time": null,
     "status": "pending"
    },
    "tags": []
   },
   "outputs": [],
   "source": [
    "ex['x'].shape"
   ]
  },
  {
   "cell_type": "code",
   "execution_count": null,
   "id": "ff66b9f4",
   "metadata": {
    "execution": {
     "iopub.execute_input": "2023-03-16T02:15:36.007189Z",
     "iopub.status.busy": "2023-03-16T02:15:36.006308Z",
     "iopub.status.idle": "2023-03-16T02:15:37.204905Z",
     "shell.execute_reply": "2023-03-16T02:15:37.203593Z",
     "shell.execute_reply.started": "2023-03-16T02:15:36.007140Z"
    },
    "papermill": {
     "duration": null,
     "end_time": null,
     "exception": null,
     "start_time": null,
     "status": "pending"
    },
    "tags": []
   },
   "outputs": [],
   "source": [
    "fig, axs = plt.subplots(2, 4, figsize=(15,8))\n",
    "\n",
    "axs = axs.ravel()\n",
    "\n",
    "for i in range(8):\n",
    "\n",
    "    axs[i].contourf(ex['x'][i])"
   ]
  },
  {
   "cell_type": "code",
   "execution_count": null,
   "id": "5c455086",
   "metadata": {
    "execution": {
     "iopub.execute_input": "2023-03-16T07:01:04.778631Z",
     "iopub.status.busy": "2023-03-16T07:01:04.778214Z",
     "iopub.status.idle": "2023-03-16T07:01:04.790111Z",
     "shell.execute_reply": "2023-03-16T07:01:04.788726Z",
     "shell.execute_reply.started": "2023-03-16T07:01:04.778596Z"
    },
    "papermill": {
     "duration": null,
     "end_time": null,
     "exception": null,
     "start_time": null,
     "status": "pending"
    },
    "tags": []
   },
   "outputs": [],
   "source": [
    "train.loc[train['DHSID_EA'] == 'IA-2015-7-00010004', 'water_index'].values[0]"
   ]
  },
  {
   "cell_type": "code",
   "execution_count": null,
   "id": "b72256a3",
   "metadata": {
    "execution": {
     "iopub.execute_input": "2023-03-16T04:42:58.195394Z",
     "iopub.status.busy": "2023-03-16T04:42:58.194615Z",
     "iopub.status.idle": "2023-03-16T04:42:59.714450Z",
     "shell.execute_reply": "2023-03-16T04:42:59.712617Z",
     "shell.execute_reply.started": "2023-03-16T04:42:58.195336Z"
    },
    "papermill": {
     "duration": null,
     "end_time": null,
     "exception": null,
     "start_time": null,
     "status": "pending"
    },
    "tags": []
   },
   "outputs": [],
   "source": [
    "ex2 = np.load('/kaggle/input/bizinnovate-2023/dhs_train/IA-2015-7-00010005.npz')\n",
    "\n",
    "fig, axs = plt.subplots(2, 4, figsize=(15,8))\n",
    "\n",
    "axs = axs.ravel()\n",
    "\n",
    "for i in range(8):\n",
    "\n",
    "    axs[i].contourf(ex2['x'][i])"
   ]
  },
  {
   "cell_type": "code",
   "execution_count": null,
   "id": "bff60018",
   "metadata": {
    "execution": {
     "iopub.execute_input": "2023-03-16T07:00:28.962420Z",
     "iopub.status.busy": "2023-03-16T07:00:28.961914Z",
     "iopub.status.idle": "2023-03-16T07:00:28.979808Z",
     "shell.execute_reply": "2023-03-16T07:00:28.976792Z",
     "shell.execute_reply.started": "2023-03-16T07:00:28.962372Z"
    },
    "papermill": {
     "duration": null,
     "end_time": null,
     "exception": null,
     "start_time": null,
     "status": "pending"
    },
    "tags": []
   },
   "outputs": [],
   "source": [
    "train.loc[train['DHSID_EA'] == 'IA-2015-7-00010005', 'water_index'].values[0]"
   ]
  },
  {
   "cell_type": "code",
   "execution_count": null,
   "id": "c8a93772",
   "metadata": {
    "execution": {
     "iopub.execute_input": "2023-03-16T07:15:29.161627Z",
     "iopub.status.busy": "2023-03-16T07:15:29.161156Z",
     "iopub.status.idle": "2023-03-16T07:15:29.195276Z",
     "shell.execute_reply": "2023-03-16T07:15:29.193993Z",
     "shell.execute_reply.started": "2023-03-16T07:15:29.161585Z"
    },
    "papermill": {
     "duration": null,
     "end_time": null,
     "exception": null,
     "start_time": null,
     "status": "pending"
    },
    "tags": []
   },
   "outputs": [],
   "source": [
    "# top 3 max water_index, asset_index\n",
    "train.sort_values(by=['water_index', 'asset_index'], ascending=False).iloc[:3]"
   ]
  },
  {
   "cell_type": "code",
   "execution_count": null,
   "id": "b81664da",
   "metadata": {
    "execution": {
     "iopub.execute_input": "2023-03-16T07:15:54.279864Z",
     "iopub.status.busy": "2023-03-16T07:15:54.279368Z",
     "iopub.status.idle": "2023-03-16T07:15:54.315260Z",
     "shell.execute_reply": "2023-03-16T07:15:54.314087Z",
     "shell.execute_reply.started": "2023-03-16T07:15:54.279823Z"
    },
    "papermill": {
     "duration": null,
     "end_time": null,
     "exception": null,
     "start_time": null,
     "status": "pending"
    },
    "tags": []
   },
   "outputs": [],
   "source": [
    "# top 3 min water_index, asset_index\n",
    "train.sort_values(by=['water_index', 'asset_index'], ascending=True).iloc[:3]"
   ]
  },
  {
   "cell_type": "code",
   "execution_count": null,
   "id": "7aa94d5d",
   "metadata": {
    "execution": {
     "iopub.execute_input": "2023-03-16T07:23:55.453927Z",
     "iopub.status.busy": "2023-03-16T07:23:55.453416Z",
     "iopub.status.idle": "2023-03-16T07:24:00.666108Z",
     "shell.execute_reply": "2023-03-16T07:24:00.664637Z",
     "shell.execute_reply.started": "2023-03-16T07:23:55.453858Z"
    },
    "papermill": {
     "duration": null,
     "end_time": null,
     "exception": null,
     "start_time": null,
     "status": "pending"
    },
    "tags": []
   },
   "outputs": [],
   "source": [
    "best_ex1 = np.load('/kaggle/input/bizinnovate-2023/dhs_train/IA-2015-7-00110590.npz')\n",
    "best_ex2 = np.load('/kaggle/input/bizinnovate-2023/dhs_train/IA-2015-7-00270038.npz')\n",
    "best_ex3 = np.load('/kaggle/input/bizinnovate-2023/dhs_train/IA-2015-7-00270084.npz')\n",
    "\n",
    "fig1, axs1 = plt.subplots(2, 4, figsize=(15,8))\n",
    "fig2, axs2 = plt.subplots(2, 4, figsize=(15,8))\n",
    "fig3, axs3 = plt.subplots(2, 4, figsize=(15,8))\n",
    "\n",
    "axs1 = axs1.ravel()\n",
    "axs2 = axs2.ravel()\n",
    "axs3 = axs3.ravel()\n",
    "\n",
    "for i in range(8):\n",
    "    axs1[i].contourf(best_ex1['x'][i])\n",
    "    axs2[i].contourf(best_ex2['x'][i])\n",
    "    axs3[i].contourf(best_ex3['x'][i])\n",
    "fig1.suptitle('Max Water Index');"
   ]
  },
  {
   "cell_type": "code",
   "execution_count": null,
   "id": "82d1b542",
   "metadata": {
    "execution": {
     "iopub.execute_input": "2023-03-16T07:25:07.526036Z",
     "iopub.status.busy": "2023-03-16T07:25:07.525588Z",
     "iopub.status.idle": "2023-03-16T07:25:12.225998Z",
     "shell.execute_reply": "2023-03-16T07:25:12.224745Z",
     "shell.execute_reply.started": "2023-03-16T07:25:07.525995Z"
    },
    "papermill": {
     "duration": null,
     "end_time": null,
     "exception": null,
     "start_time": null,
     "status": "pending"
    },
    "tags": []
   },
   "outputs": [],
   "source": [
    "worst_ex1 = np.load('/kaggle/input/bizinnovate-2023/dhs_train/IA-2015-7-00041022.npz')\n",
    "worst_ex2 = np.load('/kaggle/input/bizinnovate-2023/dhs_train/IA-2015-7-00040712.npz')\n",
    "worst_ex3 = np.load('/kaggle/input/bizinnovate-2023/dhs_train/IA-2015-7-00030236.npz')\n",
    "\n",
    "fig1, axs1 = plt.subplots(2, 4, figsize=(15,8))\n",
    "fig2, axs2 = plt.subplots(2, 4, figsize=(15,8))\n",
    "fig3, axs3 = plt.subplots(2, 4, figsize=(15,8))\n",
    "\n",
    "axs1 = axs1.ravel()\n",
    "axs2 = axs2.ravel()\n",
    "axs3 = axs3.ravel()\n",
    "\n",
    "for i in range(8):\n",
    "    axs1[i].contourf(worst_ex1['x'][i])\n",
    "    axs2[i].contourf(worst_ex2['x'][i])\n",
    "    axs3[i].contourf(worst_ex3['x'][i])\n",
    "fig1.suptitle('Min Water Index');"
   ]
  },
  {
   "cell_type": "code",
   "execution_count": null,
   "id": "ca5d5936",
   "metadata": {
    "execution": {
     "iopub.execute_input": "2023-03-16T07:30:52.513711Z",
     "iopub.status.busy": "2023-03-16T07:30:52.513182Z",
     "iopub.status.idle": "2023-03-16T07:30:52.568154Z",
     "shell.execute_reply": "2023-03-16T07:30:52.567115Z",
     "shell.execute_reply.started": "2023-03-16T07:30:52.513669Z"
    },
    "papermill": {
     "duration": null,
     "end_time": null,
     "exception": null,
     "start_time": null,
     "status": "pending"
    },
    "tags": []
   },
   "outputs": [],
   "source": [
    "print(best_ex1['x'].mean(axis=(1,2)))\n",
    "print(best_ex2['x'].mean(axis=(1,2)))\n",
    "print(best_ex3['x'].mean(axis=(1,2)))"
   ]
  },
  {
   "cell_type": "code",
   "execution_count": null,
   "id": "6ef73c5e",
   "metadata": {
    "execution": {
     "iopub.execute_input": "2023-03-16T07:31:17.683168Z",
     "iopub.status.busy": "2023-03-16T07:31:17.682661Z",
     "iopub.status.idle": "2023-03-16T07:31:17.733374Z",
     "shell.execute_reply": "2023-03-16T07:31:17.731833Z",
     "shell.execute_reply.started": "2023-03-16T07:31:17.683132Z"
    },
    "papermill": {
     "duration": null,
     "end_time": null,
     "exception": null,
     "start_time": null,
     "status": "pending"
    },
    "tags": []
   },
   "outputs": [],
   "source": [
    "print(worst_ex1['x'].mean(axis=(1,2)))\n",
    "print(worst_ex2['x'].mean(axis=(1,2)))\n",
    "print(worst_ex3['x'].mean(axis=(1,2)))"
   ]
  },
  {
   "cell_type": "code",
   "execution_count": null,
   "id": "5e35e67d",
   "metadata": {
    "execution": {
     "iopub.execute_input": "2023-03-16T07:55:33.057198Z",
     "iopub.status.busy": "2023-03-16T07:55:33.055984Z",
     "iopub.status.idle": "2023-03-16T07:55:33.081494Z",
     "shell.execute_reply": "2023-03-16T07:55:33.079969Z",
     "shell.execute_reply.started": "2023-03-16T07:55:33.057146Z"
    },
    "papermill": {
     "duration": null,
     "end_time": null,
     "exception": null,
     "start_time": null,
     "status": "pending"
    },
    "tags": []
   },
   "outputs": [],
   "source": [
    "keys = ['mean_energy_0', 'mean_energy_1', 'mean_energy_2',\n",
    "        'mean_energy_3', 'mean_energy_4', 'mean_energy_5',\n",
    "        'mean_energy_6', 'mean_energy_7']\n",
    "dict(zip(keys, worst_ex3['x'].mean(axis=(1,2))))"
   ]
  },
  {
   "cell_type": "code",
   "execution_count": null,
   "id": "48773e2f",
   "metadata": {
    "execution": {
     "iopub.execute_input": "2023-03-16T07:56:00.555096Z",
     "iopub.status.busy": "2023-03-16T07:56:00.553820Z",
     "iopub.status.idle": "2023-03-16T07:56:00.570622Z",
     "shell.execute_reply": "2023-03-16T07:56:00.569055Z",
     "shell.execute_reply.started": "2023-03-16T07:56:00.555042Z"
    },
    "papermill": {
     "duration": null,
     "end_time": null,
     "exception": null,
     "start_time": null,
     "status": "pending"
    },
    "tags": []
   },
   "outputs": [],
   "source": [
    "df_keys = keys + ['DHSID_EA']\n",
    "init_dict = dict(zip(df_keys, [[],[],[],[],[],[],[],[],[]]))\n",
    "energy_df = pd.DataFrame(init_dict)\n",
    "energy_df"
   ]
  },
  {
   "cell_type": "code",
   "execution_count": null,
   "id": "80b1cae9",
   "metadata": {
    "execution": {
     "iopub.execute_input": "2023-03-16T07:57:03.595724Z",
     "iopub.status.busy": "2023-03-16T07:57:03.594250Z",
     "iopub.status.idle": "2023-03-16T08:06:46.905520Z",
     "shell.execute_reply": "2023-03-16T08:06:46.903507Z",
     "shell.execute_reply.started": "2023-03-16T07:57:03.595664Z"
    },
    "papermill": {
     "duration": null,
     "end_time": null,
     "exception": null,
     "start_time": null,
     "status": "pending"
    },
    "tags": []
   },
   "outputs": [],
   "source": [
    "# Feature engineering\n",
    "for i, row in train.iterrows():\n",
    "    # Load\n",
    "    data = np.load(f\"/kaggle/input/bizinnovate-2023/dhs_train/{str(row['DHSID_EA'])}.npz\")\n",
    "    # Extract & transform\n",
    "    insert = dict(zip(keys, data['x'].mean(axis=(1,2))))\n",
    "    insert['DHSID_EA'] = str(row['DHSID_EA'])\n",
    "    energy_df = pd.concat([energy_df, pd.DataFrame([insert])])"
   ]
  },
  {
   "cell_type": "code",
   "execution_count": null,
   "id": "4b96e287",
   "metadata": {
    "execution": {
     "iopub.execute_input": "2023-03-16T08:06:46.910174Z",
     "iopub.status.busy": "2023-03-16T08:06:46.908983Z",
     "iopub.status.idle": "2023-03-16T08:06:46.938810Z",
     "shell.execute_reply": "2023-03-16T08:06:46.937420Z",
     "shell.execute_reply.started": "2023-03-16T08:06:46.910119Z"
    },
    "papermill": {
     "duration": null,
     "end_time": null,
     "exception": null,
     "start_time": null,
     "status": "pending"
    },
    "tags": []
   },
   "outputs": [],
   "source": [
    "energy_df"
   ]
  },
  {
   "cell_type": "code",
   "execution_count": null,
   "id": "e62c8a52",
   "metadata": {
    "execution": {
     "iopub.execute_input": "2023-03-16T08:13:15.729824Z",
     "iopub.status.busy": "2023-03-16T08:13:15.728412Z",
     "iopub.status.idle": "2023-03-16T08:13:15.915686Z",
     "shell.execute_reply": "2023-03-16T08:13:15.914192Z",
     "shell.execute_reply.started": "2023-03-16T08:13:15.729775Z"
    },
    "papermill": {
     "duration": null,
     "end_time": null,
     "exception": null,
     "start_time": null,
     "status": "pending"
    },
    "tags": []
   },
   "outputs": [],
   "source": [
    "energy_df.to_csv('train_energy.csv')"
   ]
  },
  {
   "cell_type": "code",
   "execution_count": null,
   "id": "c35e430a",
   "metadata": {
    "execution": {
     "iopub.execute_input": "2023-03-16T08:13:57.340957Z",
     "iopub.status.busy": "2023-03-16T08:13:57.339272Z",
     "iopub.status.idle": "2023-03-16T08:13:57.380447Z",
     "shell.execute_reply": "2023-03-16T08:13:57.378990Z",
     "shell.execute_reply.started": "2023-03-16T08:13:57.340888Z"
    },
    "papermill": {
     "duration": null,
     "end_time": null,
     "exception": null,
     "start_time": null,
     "status": "pending"
    },
    "tags": []
   },
   "outputs": [],
   "source": [
    "corr = energy_df.corr()\n",
    "corr.style.background_gradient(cmap='coolwarm')"
   ]
  },
  {
   "cell_type": "code",
   "execution_count": null,
   "id": "2f72075a",
   "metadata": {
    "execution": {
     "iopub.execute_input": "2023-03-16T08:17:47.773799Z",
     "iopub.status.busy": "2023-03-16T08:17:47.773078Z",
     "iopub.status.idle": "2023-03-16T08:17:47.863422Z",
     "shell.execute_reply": "2023-03-16T08:17:47.861543Z",
     "shell.execute_reply.started": "2023-03-16T08:17:47.773729Z"
    },
    "papermill": {
     "duration": null,
     "end_time": null,
     "exception": null,
     "start_time": null,
     "status": "pending"
    },
    "tags": []
   },
   "outputs": [],
   "source": [
    "train_eng = pd.merge(train, energy_df, on='DHSID_EA', how='left')\n",
    "train_eng.head()"
   ]
  },
  {
   "cell_type": "code",
   "execution_count": null,
   "id": "ba5535ad",
   "metadata": {
    "execution": {
     "iopub.execute_input": "2023-03-16T08:19:32.764389Z",
     "iopub.status.busy": "2023-03-16T08:19:32.763905Z",
     "iopub.status.idle": "2023-03-16T08:19:32.797735Z",
     "shell.execute_reply": "2023-03-16T08:19:32.796391Z",
     "shell.execute_reply.started": "2023-03-16T08:19:32.764351Z"
    },
    "papermill": {
     "duration": null,
     "end_time": null,
     "exception": null,
     "start_time": null,
     "status": "pending"
    },
    "tags": []
   },
   "outputs": [],
   "source": [
    "train_feats = train_eng[['lat', 'lon', 'asset_index', 'water_index',\n",
    "                         'mean_energy_0', 'mean_energy_1', 'mean_energy_2',\n",
    "                         'mean_energy_3', 'mean_energy_4', 'mean_energy_5',\n",
    "                         'mean_energy_6', 'mean_energy_7']]\n",
    "train_feats.head()"
   ]
  },
  {
   "cell_type": "code",
   "execution_count": null,
   "id": "201b6b8e",
   "metadata": {
    "execution": {
     "iopub.execute_input": "2023-03-16T08:19:48.459145Z",
     "iopub.status.busy": "2023-03-16T08:19:48.457878Z",
     "iopub.status.idle": "2023-03-16T08:19:48.515852Z",
     "shell.execute_reply": "2023-03-16T08:19:48.514136Z",
     "shell.execute_reply.started": "2023-03-16T08:19:48.459082Z"
    },
    "papermill": {
     "duration": null,
     "end_time": null,
     "exception": null,
     "start_time": null,
     "status": "pending"
    },
    "tags": []
   },
   "outputs": [],
   "source": [
    "corr = train_feats.corr()\n",
    "corr.style.background_gradient(cmap='coolwarm')"
   ]
  },
  {
   "cell_type": "code",
   "execution_count": null,
   "id": "5569c635",
   "metadata": {
    "execution": {
     "iopub.execute_input": "2023-03-16T08:21:03.865923Z",
     "iopub.status.busy": "2023-03-16T08:21:03.865421Z",
     "iopub.status.idle": "2023-03-16T08:21:03.882964Z",
     "shell.execute_reply": "2023-03-16T08:21:03.881262Z",
     "shell.execute_reply.started": "2023-03-16T08:21:03.865883Z"
    },
    "papermill": {
     "duration": null,
     "end_time": null,
     "exception": null,
     "start_time": null,
     "status": "pending"
    },
    "tags": []
   },
   "outputs": [],
   "source": [
    "df_keys = keys + ['DHSID_EA']\n",
    "init_dict = dict(zip(df_keys, [[],[],[],[],[],[],[],[],[]]))\n",
    "test_energy_df = pd.DataFrame(init_dict)\n",
    "test_energy_df"
   ]
  },
  {
   "cell_type": "code",
   "execution_count": null,
   "id": "9dd5dcde",
   "metadata": {
    "execution": {
     "iopub.execute_input": "2023-03-16T08:21:13.809584Z",
     "iopub.status.busy": "2023-03-16T08:21:13.809060Z",
     "iopub.status.idle": "2023-03-16T08:22:43.212592Z",
     "shell.execute_reply": "2023-03-16T08:22:43.210887Z",
     "shell.execute_reply.started": "2023-03-16T08:21:13.809544Z"
    },
    "papermill": {
     "duration": null,
     "end_time": null,
     "exception": null,
     "start_time": null,
     "status": "pending"
    },
    "tags": []
   },
   "outputs": [],
   "source": [
    "for i, row in test.iterrows():\n",
    "    # Load\n",
    "    data = np.load(f\"/kaggle/input/bizinnovate-2023/dhs_test/{str(row['DHSID_EA'])}.npz\")\n",
    "    # Extract & transform\n",
    "    insert = dict(zip(keys, data['x'].mean(axis=(1,2))))\n",
    "    insert['DHSID_EA'] = str(row['DHSID_EA'])\n",
    "    test_energy_df = pd.concat([test_energy_df, pd.DataFrame([insert])])"
   ]
  },
  {
   "cell_type": "code",
   "execution_count": null,
   "id": "b1fd7ace",
   "metadata": {
    "execution": {
     "iopub.execute_input": "2023-03-16T08:24:13.310138Z",
     "iopub.status.busy": "2023-03-16T08:24:13.309405Z",
     "iopub.status.idle": "2023-03-16T08:24:13.502579Z",
     "shell.execute_reply": "2023-03-16T08:24:13.501034Z",
     "shell.execute_reply.started": "2023-03-16T08:24:13.310094Z"
    },
    "papermill": {
     "duration": null,
     "end_time": null,
     "exception": null,
     "start_time": null,
     "status": "pending"
    },
    "tags": []
   },
   "outputs": [],
   "source": [
    "energy_df.to_csv('test_energy.csv')"
   ]
  },
  {
   "cell_type": "code",
   "execution_count": null,
   "id": "8ba05bc6",
   "metadata": {
    "execution": {
     "iopub.execute_input": "2023-03-16T08:24:39.269075Z",
     "iopub.status.busy": "2023-03-16T08:24:39.267744Z",
     "iopub.status.idle": "2023-03-16T08:24:39.302466Z",
     "shell.execute_reply": "2023-03-16T08:24:39.300668Z",
     "shell.execute_reply.started": "2023-03-16T08:24:39.269027Z"
    },
    "papermill": {
     "duration": null,
     "end_time": null,
     "exception": null,
     "start_time": null,
     "status": "pending"
    },
    "tags": []
   },
   "outputs": [],
   "source": [
    "test_eng = pd.merge(test, test_energy_df, on='DHSID_EA', how='left')\n",
    "test_eng.head()"
   ]
  },
  {
   "cell_type": "code",
   "execution_count": null,
   "id": "ebc3907c",
   "metadata": {
    "execution": {
     "iopub.execute_input": "2023-03-16T09:14:44.702683Z",
     "iopub.status.busy": "2023-03-16T09:14:44.701399Z",
     "iopub.status.idle": "2023-03-16T09:14:44.728254Z",
     "shell.execute_reply": "2023-03-16T09:14:44.726683Z",
     "shell.execute_reply.started": "2023-03-16T09:14:44.702623Z"
    },
    "papermill": {
     "duration": null,
     "end_time": null,
     "exception": null,
     "start_time": null,
     "status": "pending"
    },
    "tags": []
   },
   "outputs": [],
   "source": [
    "test_feats = test_eng[['lat', 'lon', 'asset_index',\n",
    "                       'mean_energy_0', 'mean_energy_1', 'mean_energy_2',\n",
    "                       'mean_energy_3', 'mean_energy_4', 'mean_energy_5',\n",
    "                       'mean_energy_6', 'mean_energy_7']]\n",
    "test_feats.head()"
   ]
  },
  {
   "cell_type": "code",
   "execution_count": null,
   "id": "468f657b",
   "metadata": {
    "execution": {
     "iopub.execute_input": "2023-03-16T20:17:05.506756Z",
     "iopub.status.busy": "2023-03-16T20:17:05.506367Z",
     "iopub.status.idle": "2023-03-16T20:17:05.659741Z",
     "shell.execute_reply": "2023-03-16T20:17:05.658142Z",
     "shell.execute_reply.started": "2023-03-16T20:17:05.506721Z"
    },
    "papermill": {
     "duration": null,
     "end_time": null,
     "exception": null,
     "start_time": null,
     "status": "pending"
    },
    "tags": []
   },
   "outputs": [],
   "source": [
    "train_energy_df = pd.read_csv('/kaggle/working/train_energy.csv')\n",
    "train_eng = pd.merge(test, train_energy_df, on='DHSID_EA', how='left')\n",
    "\n",
    "train_feats = train_eng[['lat', 'lon', 'asset_index', 'water_index',\n",
    "                         'mean_energy_0', 'mean_energy_1', 'mean_energy_2',\n",
    "                         'mean_energy_3', 'mean_energy_4', 'mean_energy_5',\n",
    "                         'mean_energy_6', 'mean_energy_7']]\n",
    "train_feats.head()"
   ]
  },
  {
   "cell_type": "code",
   "execution_count": null,
   "id": "56bc8d40",
   "metadata": {
    "execution": {
     "iopub.execute_input": "2023-03-16T09:22:09.258565Z",
     "iopub.status.busy": "2023-03-16T09:22:09.258025Z",
     "iopub.status.idle": "2023-03-16T09:22:09.286891Z",
     "shell.execute_reply": "2023-03-16T09:22:09.285739Z",
     "shell.execute_reply.started": "2023-03-16T09:22:09.258522Z"
    },
    "papermill": {
     "duration": null,
     "end_time": null,
     "exception": null,
     "start_time": null,
     "status": "pending"
    },
    "tags": []
   },
   "outputs": [],
   "source": [
    "from sklearn.model_selection  import train_test_split, cross_val_score\n",
    "from sklearn.neighbors import KNeighborsRegressor\n",
    "from sklearn.pipeline import make_pipeline\n",
    "from sklearn.preprocessing import StandardScaler\n",
    "\n",
    "X = train_eng[['lat', 'lon', 'asset_index', 'mean_energy_5', 'mean_energy_6', 'mean_energy_7']]\n",
    "y = train_eng['water_index']\n",
    "\n",
    "Xt = test_eng[['lat', 'lon', 'asset_index', 'mean_energy_5', 'mean_energy_6', 'mean_energy_7']]\n",
    "\n",
    "X_train, X_valid, y_train, y_valid = train_test_split(\n",
    "    X, y, test_size=0.33, random_state=42)"
   ]
  },
  {
   "cell_type": "code",
   "execution_count": null,
   "id": "708e6b19",
   "metadata": {
    "execution": {
     "iopub.execute_input": "2023-03-16T09:23:12.404635Z",
     "iopub.status.busy": "2023-03-16T09:23:12.404031Z",
     "iopub.status.idle": "2023-03-16T09:23:28.353921Z",
     "shell.execute_reply": "2023-03-16T09:23:28.352329Z",
     "shell.execute_reply.started": "2023-03-16T09:23:12.404583Z"
    },
    "papermill": {
     "duration": null,
     "end_time": null,
     "exception": null,
     "start_time": null,
     "status": "pending"
    },
    "tags": []
   },
   "outputs": [],
   "source": [
    "scores = []\n",
    "for k in np.arange(1, 30, 2):   # running for different K values to know which yields the max accuracy. \n",
    "    clf = KNeighborsRegressor(n_neighbors = k, weights='uniform', algorithm=\"auto\")\n",
    "    knn_pipe = make_pipeline(StandardScaler(), clf)\n",
    "    knn_pipe.fit(X_train, y_train)\n",
    "    score = cross_val_score(knn_pipe, X_train, y_train, cv = 10)\n",
    "    scores.append(score.mean())"
   ]
  },
  {
   "cell_type": "code",
   "execution_count": null,
   "id": "822e2d1a",
   "metadata": {
    "execution": {
     "iopub.execute_input": "2023-03-16T09:23:28.357027Z",
     "iopub.status.busy": "2023-03-16T09:23:28.356152Z",
     "iopub.status.idle": "2023-03-16T09:23:28.370385Z",
     "shell.execute_reply": "2023-03-16T09:23:28.368467Z",
     "shell.execute_reply.started": "2023-03-16T09:23:28.356985Z"
    },
    "papermill": {
     "duration": null,
     "end_time": null,
     "exception": null,
     "start_time": null,
     "status": "pending"
    },
    "tags": []
   },
   "outputs": [],
   "source": [
    "pd.DataFrame(scores, index=list(np.arange(1, 30, 2)))"
   ]
  },
  {
   "cell_type": "code",
   "execution_count": null,
   "id": "ad8282c6",
   "metadata": {
    "execution": {
     "iopub.execute_input": "2023-03-16T09:23:56.668260Z",
     "iopub.status.busy": "2023-03-16T09:23:56.667808Z",
     "iopub.status.idle": "2023-03-16T09:23:56.831744Z",
     "shell.execute_reply": "2023-03-16T09:23:56.830453Z",
     "shell.execute_reply.started": "2023-03-16T09:23:56.668220Z"
    },
    "papermill": {
     "duration": null,
     "end_time": null,
     "exception": null,
     "start_time": null,
     "status": "pending"
    },
    "tags": []
   },
   "outputs": [],
   "source": [
    "knn = make_pipeline(StandardScaler(), KNeighborsRegressor(n_neighbors = 17, weights='uniform', algorithm=\"auto\"))\n",
    "knn.fit(X_train, y_train)\n",
    "y_valid_pred = knn.predict(X_valid)"
   ]
  },
  {
   "cell_type": "code",
   "execution_count": null,
   "id": "196c9a61",
   "metadata": {
    "execution": {
     "iopub.execute_input": "2023-03-16T09:23:58.516208Z",
     "iopub.status.busy": "2023-03-16T09:23:58.515710Z",
     "iopub.status.idle": "2023-03-16T09:23:58.526929Z",
     "shell.execute_reply": "2023-03-16T09:23:58.525167Z",
     "shell.execute_reply.started": "2023-03-16T09:23:58.516163Z"
    },
    "papermill": {
     "duration": null,
     "end_time": null,
     "exception": null,
     "start_time": null,
     "status": "pending"
    },
    "tags": []
   },
   "outputs": [],
   "source": [
    "r2_score(y_valid, y_valid_pred)"
   ]
  },
  {
   "cell_type": "code",
   "execution_count": null,
   "id": "c991e25f",
   "metadata": {
    "execution": {
     "iopub.execute_input": "2023-03-16T09:24:37.557939Z",
     "iopub.status.busy": "2023-03-16T09:24:37.557395Z",
     "iopub.status.idle": "2023-03-16T09:24:38.299365Z",
     "shell.execute_reply": "2023-03-16T09:24:38.297727Z",
     "shell.execute_reply.started": "2023-03-16T09:24:37.557898Z"
    },
    "papermill": {
     "duration": null,
     "end_time": null,
     "exception": null,
     "start_time": null,
     "status": "pending"
    },
    "tags": []
   },
   "outputs": [],
   "source": [
    "from lightgbm import LGBMRegressor\n",
    "\n",
    "lgbm_pipe = make_pipeline(StandardScaler(), LGBMRegressor())\n",
    "lgbm_pipe.fit(X_train, y_train)\n",
    "predicted_y = lgbm_pipe.predict(X_valid)"
   ]
  },
  {
   "cell_type": "code",
   "execution_count": null,
   "id": "4ede83b1",
   "metadata": {
    "execution": {
     "iopub.execute_input": "2023-03-16T09:24:40.176577Z",
     "iopub.status.busy": "2023-03-16T09:24:40.175748Z",
     "iopub.status.idle": "2023-03-16T09:24:40.186574Z",
     "shell.execute_reply": "2023-03-16T09:24:40.184891Z",
     "shell.execute_reply.started": "2023-03-16T09:24:40.176534Z"
    },
    "papermill": {
     "duration": null,
     "end_time": null,
     "exception": null,
     "start_time": null,
     "status": "pending"
    },
    "tags": []
   },
   "outputs": [],
   "source": [
    "r2_score(y_valid, predicted_y)"
   ]
  },
  {
   "cell_type": "code",
   "execution_count": null,
   "id": "9380b018",
   "metadata": {
    "execution": {
     "iopub.execute_input": "2023-03-16T09:25:15.552019Z",
     "iopub.status.busy": "2023-03-16T09:25:15.550214Z",
     "iopub.status.idle": "2023-03-16T09:25:16.298846Z",
     "shell.execute_reply": "2023-03-16T09:25:16.297468Z",
     "shell.execute_reply.started": "2023-03-16T09:25:15.551863Z"
    },
    "papermill": {
     "duration": null,
     "end_time": null,
     "exception": null,
     "start_time": null,
     "status": "pending"
    },
    "tags": []
   },
   "outputs": [],
   "source": [
    "import xgboost as xgb\n",
    "\n",
    "xgb_pipe = make_pipeline(StandardScaler(), xgb.XGBRegressor(tree_method=\"hist\", eval_metric=r2_score))\n",
    "xgb_pipe.fit(X_train, y_train)\n",
    "predicted_y = reg.predict(X_valid)"
   ]
  },
  {
   "cell_type": "code",
   "execution_count": null,
   "id": "14523f8d",
   "metadata": {
    "execution": {
     "iopub.execute_input": "2023-03-16T09:25:17.831726Z",
     "iopub.status.busy": "2023-03-16T09:25:17.831225Z",
     "iopub.status.idle": "2023-03-16T09:25:17.842262Z",
     "shell.execute_reply": "2023-03-16T09:25:17.840831Z",
     "shell.execute_reply.started": "2023-03-16T09:25:17.831687Z"
    },
    "papermill": {
     "duration": null,
     "end_time": null,
     "exception": null,
     "start_time": null,
     "status": "pending"
    },
    "tags": []
   },
   "outputs": [],
   "source": [
    "r2_score(y_valid, predicted_y)"
   ]
  },
  {
   "cell_type": "code",
   "execution_count": null,
   "id": "54d38f42",
   "metadata": {
    "execution": {
     "iopub.execute_input": "2023-03-16T09:28:25.759307Z",
     "iopub.status.busy": "2023-03-16T09:28:25.757915Z",
     "iopub.status.idle": "2023-03-16T10:17:29.763929Z",
     "shell.execute_reply": "2023-03-16T10:17:29.761728Z",
     "shell.execute_reply.started": "2023-03-16T09:28:25.759245Z"
    },
    "papermill": {
     "duration": null,
     "end_time": null,
     "exception": null,
     "start_time": null,
     "status": "pending"
    },
    "tags": []
   },
   "outputs": [],
   "source": [
    "from scipy.stats import randint as sp_randint\n",
    "from scipy.stats import uniform as sp_uniform\n",
    "from sklearn.model_selection import RandomizedSearchCV\n",
    "\n",
    "param_test = {'lgbmregressor__learning_rate' : [0.01, 0.02, 0.03, 0.04, 0.05, 0.08, 0.1, 0.2, 0.3, 0.4],\n",
    "              'lgbmregressor__n_estimators' : [100, 200, 300, 400, 500, 600, 800, 1000, 1500, 2000],\n",
    "              'lgbmregressor__num_leaves': sp_randint(6, 50), \n",
    "              'lgbmregressor__min_child_samples': sp_randint(100, 500), \n",
    "              'lgbmregressor__min_child_weight': [1e-5, 1e-3, 1e-2, 1e-1, 1, 1e1, 1e2, 1e3, 1e4],\n",
    "              'lgbmregressor__subsample': sp_uniform(loc = 0.2, scale = 0.8), \n",
    "              'lgbmregressor__max_depth': [-1, 1, 2, 3, 4, 5, 6, 7],\n",
    "              'lgbmregressor__colsample_bytree': sp_uniform(loc = 0.4, scale = 0.6),\n",
    "              'lgbmregressor__reg_alpha': [0, 1e-1, 1, 2, 5, 7, 10, 50, 100],\n",
    "              'lgbmregressor__reg_lambda': [0, 1e-1, 1, 5, 10, 20, 50, 100]}\n",
    "\n",
    "lgbm_clf = LGBMRegressor(random_state = 42, metric = 'r2', n_jobs = 4)\n",
    "lgbm_clf_pipe = make_pipeline(StandardScaler(), lgbm_clf)\n",
    "grid_search = RandomizedSearchCV(\n",
    "    estimator = lgbm_clf_pipe, param_distributions = param_test, \n",
    "    n_iter = 500,\n",
    "    scoring = 'r2',\n",
    "    cv = 5,\n",
    "    refit = True,\n",
    "    random_state = 42,\n",
    "    verbose = True)\n",
    "\n",
    "grid_search.fit(X_train, y_train)\n",
    "opt_parameters = grid_search.best_params_"
   ]
  },
  {
   "cell_type": "code",
   "execution_count": null,
   "id": "a7e02267",
   "metadata": {
    "execution": {
     "iopub.status.busy": "2023-03-16T10:17:29.765710Z",
     "iopub.status.idle": "2023-03-16T10:17:29.767182Z",
     "shell.execute_reply": "2023-03-16T10:17:29.766956Z",
     "shell.execute_reply.started": "2023-03-16T10:17:29.766926Z"
    },
    "papermill": {
     "duration": null,
     "end_time": null,
     "exception": null,
     "start_time": null,
     "status": "pending"
    },
    "tags": []
   },
   "outputs": [],
   "source": [
    "lgbm_clf = lgbm.LGBMClassifier(**opt_parameters)\n",
    "y_pred = lgbm_clf.fit(X_train, y_train).predict(X_valid)"
   ]
  },
  {
   "cell_type": "code",
   "execution_count": null,
   "id": "52312f96",
   "metadata": {
    "execution": {
     "iopub.status.busy": "2023-03-16T10:17:29.768453Z",
     "iopub.status.idle": "2023-03-16T10:17:29.769535Z",
     "shell.execute_reply": "2023-03-16T10:17:29.769282Z",
     "shell.execute_reply.started": "2023-03-16T10:17:29.769253Z"
    },
    "papermill": {
     "duration": null,
     "end_time": null,
     "exception": null,
     "start_time": null,
     "status": "pending"
    },
    "tags": []
   },
   "outputs": [],
   "source": [
    "r2_score(y_valid, y_pred)"
   ]
  },
  {
   "cell_type": "code",
   "execution_count": null,
   "id": "848b6e4a",
   "metadata": {
    "papermill": {
     "duration": null,
     "end_time": null,
     "exception": null,
     "start_time": null,
     "status": "pending"
    },
    "tags": []
   },
   "outputs": [],
   "source": [
    "preds = lgbm.predict(Xt)\n",
    "test['water_index'] = preds\n",
    "tester = test[['DHSID_EA', 'water_index']]\n",
    "tester.to_csv('test.csv', index=False)"
   ]
  },
  {
   "cell_type": "code",
   "execution_count": null,
   "id": "90193a19",
   "metadata": {
    "execution": {
     "iopub.execute_input": "2023-03-16T02:50:21.914945Z",
     "iopub.status.busy": "2023-03-16T02:50:21.914553Z",
     "iopub.status.idle": "2023-03-16T02:50:21.945181Z",
     "shell.execute_reply": "2023-03-16T02:50:21.944092Z",
     "shell.execute_reply.started": "2023-03-16T02:50:21.914910Z"
    },
    "papermill": {
     "duration": null,
     "end_time": null,
     "exception": null,
     "start_time": null,
     "status": "pending"
    },
    "tags": []
   },
   "outputs": [],
   "source": [
    "train['path'] = train['path'].str.replace('dhs_train/', '')\n",
    "img_train_dict = dict(zip(train['path'], train['water_index']))"
   ]
  },
  {
   "cell_type": "code",
   "execution_count": null,
   "id": "9f983ce5",
   "metadata": {
    "execution": {
     "iopub.execute_input": "2023-03-16T02:46:34.321393Z",
     "iopub.status.busy": "2023-03-16T02:46:34.320975Z",
     "iopub.status.idle": "2023-03-16T02:46:34.350547Z",
     "shell.execute_reply": "2023-03-16T02:46:34.349384Z",
     "shell.execute_reply.started": "2023-03-16T02:46:34.321356Z"
    },
    "papermill": {
     "duration": null,
     "end_time": null,
     "exception": null,
     "start_time": null,
     "status": "pending"
    },
    "tags": []
   },
   "outputs": [],
   "source": [
    "train_dir = '/kaggle/input/bizinnovate-2023/dhs_train'\n",
    "\n",
    "img_shape = (8, 255, 255)\n",
    "\n",
    "img_names = np.sort(os.listdir(train_dir))"
   ]
  },
  {
   "cell_type": "code",
   "execution_count": null,
   "id": "9f558a67",
   "metadata": {
    "execution": {
     "iopub.execute_input": "2023-03-16T02:46:37.314364Z",
     "iopub.status.busy": "2023-03-16T02:46:37.313966Z",
     "iopub.status.idle": "2023-03-16T02:46:37.323792Z",
     "shell.execute_reply": "2023-03-16T02:46:37.322239Z",
     "shell.execute_reply.started": "2023-03-16T02:46:37.314330Z"
    },
    "papermill": {
     "duration": null,
     "end_time": null,
     "exception": null,
     "start_time": null,
     "status": "pending"
    },
    "tags": []
   },
   "outputs": [],
   "source": [
    "img_names"
   ]
  },
  {
   "cell_type": "code",
   "execution_count": null,
   "id": "fc79302e",
   "metadata": {
    "execution": {
     "iopub.execute_input": "2023-03-16T02:50:23.554672Z",
     "iopub.status.busy": "2023-03-16T02:50:23.554270Z",
     "iopub.status.idle": "2023-03-16T02:50:23.562553Z",
     "shell.execute_reply": "2023-03-16T02:50:23.561105Z",
     "shell.execute_reply.started": "2023-03-16T02:50:23.554638Z"
    },
    "papermill": {
     "duration": null,
     "end_time": null,
     "exception": null,
     "start_time": null,
     "status": "pending"
    },
    "tags": []
   },
   "outputs": [],
   "source": [
    "img_train_dict['IA-2015-7-00010004.npz']"
   ]
  },
  {
   "cell_type": "code",
   "execution_count": null,
   "id": "f727ab34",
   "metadata": {
    "execution": {
     "iopub.execute_input": "2023-03-16T04:36:57.235676Z",
     "iopub.status.busy": "2023-03-16T04:36:57.235229Z",
     "iopub.status.idle": "2023-03-16T04:36:57.481631Z",
     "shell.execute_reply": "2023-03-16T04:36:57.480395Z",
     "shell.execute_reply.started": "2023-03-16T04:36:57.235636Z"
    },
    "papermill": {
     "duration": null,
     "end_time": null,
     "exception": null,
     "start_time": null,
     "status": "pending"
    },
    "tags": []
   },
   "outputs": [],
   "source": [
    "geotrain = (gpd.GeoDataFrame(\n",
    "                train, \n",
    "                crs=\"EPSG:4326\", # specify the CRS\n",
    "                geometry=gpd.points_from_xy(train[\"lon\"], train[\"lat\"])) # create geometry from coordinates\n",
    "            .to_crs(\"EPSG:3347\") # convert to a different CRS\n",
    "            )\n",
    "geotrain[\"Easting\"], geotrain[\"Northing\"] = geotrain.geometry.x, geotrain.geometry.y\n",
    "geotrain.head()"
   ]
  },
  {
   "cell_type": "code",
   "execution_count": null,
   "id": "5663fc75",
   "metadata": {
    "execution": {
     "iopub.execute_input": "2023-03-16T03:45:43.241195Z",
     "iopub.status.busy": "2023-03-16T03:45:43.240028Z",
     "iopub.status.idle": "2023-03-16T03:45:43.263863Z",
     "shell.execute_reply": "2023-03-16T03:45:43.262869Z",
     "shell.execute_reply.started": "2023-03-16T03:45:43.241148Z"
    },
    "papermill": {
     "duration": null,
     "end_time": null,
     "exception": null,
     "start_time": null,
     "status": "pending"
    },
    "tags": []
   },
   "outputs": [],
   "source": [
    "resolution = 10000  # cell size in meters, smaller cell size = smaller pixel = higher resolution \n",
    "gridx = np.arange(geotrain.bounds.minx.min(), geotrain.bounds.maxx.max(), resolution)\n",
    "gridy = np.arange(geotrain.bounds.miny.min(), geotrain.bounds.maxy.max(), resolution)"
   ]
  },
  {
   "cell_type": "code",
   "execution_count": null,
   "id": "55d5929d",
   "metadata": {
    "execution": {
     "iopub.execute_input": "2023-03-16T03:45:45.645314Z",
     "iopub.status.busy": "2023-03-16T03:45:45.644390Z",
     "iopub.status.idle": "2023-03-16T03:45:46.565521Z",
     "shell.execute_reply": "2023-03-16T03:45:46.562776Z",
     "shell.execute_reply.started": "2023-03-16T03:45:45.645271Z"
    },
    "papermill": {
     "duration": null,
     "end_time": null,
     "exception": null,
     "start_time": null,
     "status": "pending"
    },
    "tags": []
   },
   "outputs": [],
   "source": [
    "model = NearestNDInterpolator(x = list(zip(geotrain[\"Easting\"], geotrain[\"Northing\"])),\n",
    "                              y = geotrain[\"water_index\"])\n",
    "z = model(*np.meshgrid(gridx, gridy))\n",
    "plt.imshow(z);"
   ]
  },
  {
   "cell_type": "code",
   "execution_count": null,
   "id": "aedebdcd",
   "metadata": {
    "execution": {
     "iopub.execute_input": "2023-03-16T03:04:33.805211Z",
     "iopub.status.busy": "2023-03-16T03:04:33.804817Z",
     "iopub.status.idle": "2023-03-16T03:04:34.510253Z",
     "shell.execute_reply": "2023-03-16T03:04:34.508916Z",
     "shell.execute_reply.started": "2023-03-16T03:04:33.805178Z"
    },
    "papermill": {
     "duration": null,
     "end_time": null,
     "exception": null,
     "start_time": null,
     "status": "pending"
    },
    "tags": []
   },
   "outputs": [],
   "source": [
    "polygons, values = pixel2poly(gridx, gridy, z, resolution)"
   ]
  },
  {
   "cell_type": "code",
   "execution_count": null,
   "id": "13142fa4",
   "metadata": {
    "execution": {
     "iopub.execute_input": "2023-03-16T03:06:43.042025Z",
     "iopub.status.busy": "2023-03-16T03:06:43.041602Z",
     "iopub.status.idle": "2023-03-16T03:07:23.011463Z",
     "shell.execute_reply": "2023-03-16T03:07:23.010438Z",
     "shell.execute_reply.started": "2023-03-16T03:06:43.041990Z"
    },
    "papermill": {
     "duration": null,
     "end_time": null,
     "exception": null,
     "start_time": null,
     "status": "pending"
    },
    "tags": []
   },
   "outputs": [],
   "source": [
    "geotrain_model = (gpd.GeoDataFrame({\"water_index_modelled\": values}, geometry=polygons, crs=\"EPSG:3347\")\n",
    "                      .to_crs(\"EPSG:4326\")\n",
    "                 )\n",
    "\n",
    "fig = px.choropleth_mapbox(geotrain_model, geojson=geotrain_model.geometry, locations=geotrain_model.index,\n",
    "                           color=\"water_index_modelled\", opacity=0.5,\n",
    "#                            center={\"lat\": 52.261, \"lon\": -123.246}, zoom=3.5,\n",
    "                           mapbox_style=\"carto-darkmatter\")\n",
    "fig.update_layout(margin=dict(l=0, r=0, t=30, b=10))\n",
    "fig.update_traces(marker_line_width=0)"
   ]
  },
  {
   "cell_type": "code",
   "execution_count": null,
   "id": "1ce15575",
   "metadata": {
    "execution": {
     "iopub.execute_input": "2023-03-16T04:37:03.602268Z",
     "iopub.status.busy": "2023-03-16T04:37:03.600987Z",
     "iopub.status.idle": "2023-03-16T04:37:03.715091Z",
     "shell.execute_reply": "2023-03-16T04:37:03.713215Z",
     "shell.execute_reply.started": "2023-03-16T04:37:03.602212Z"
    },
    "papermill": {
     "duration": null,
     "end_time": null,
     "exception": null,
     "start_time": null,
     "status": "pending"
    },
    "tags": []
   },
   "outputs": [],
   "source": [
    "geotest = (gpd.GeoDataFrame(\n",
    "            test, \n",
    "            crs=\"EPSG:4326\", # specify the CRS\n",
    "            geometry=gpd.points_from_xy(test[\"lon\"], test[\"lat\"])) # create geometry from coordinates\n",
    "          .to_crs(\"EPSG:3347\") # convert to a different CRS\n",
    "            )\n",
    "geotest[\"Easting\"], geotest[\"Northing\"] = geotest.geometry.x, geotest.geometry.y\n",
    "geotest.head()"
   ]
  },
  {
   "cell_type": "code",
   "execution_count": null,
   "id": "e5558195",
   "metadata": {
    "execution": {
     "iopub.execute_input": "2023-03-16T03:47:32.186332Z",
     "iopub.status.busy": "2023-03-16T03:47:32.185849Z",
     "iopub.status.idle": "2023-03-16T03:47:32.198598Z",
     "shell.execute_reply": "2023-03-16T03:47:32.197570Z",
     "shell.execute_reply.started": "2023-03-16T03:47:32.186291Z"
    },
    "papermill": {
     "duration": null,
     "end_time": null,
     "exception": null,
     "start_time": null,
     "status": "pending"
    },
    "tags": []
   },
   "outputs": [],
   "source": [
    "resolution = 500  # cell size in meters, smaller cell size = smaller pixel = higher resolution \n",
    "gridx = np.arange(geotest.bounds.minx.min(), geotest.bounds.maxx.max(), resolution)\n",
    "gridy = np.arange(geotest.bounds.miny.min(), geotest.bounds.maxy.max(), resolution)"
   ]
  },
  {
   "cell_type": "code",
   "execution_count": null,
   "id": "5fbb7e27",
   "metadata": {
    "execution": {
     "iopub.execute_input": "2023-03-16T04:12:43.235246Z",
     "iopub.status.busy": "2023-03-16T04:12:43.234753Z",
     "iopub.status.idle": "2023-03-16T04:12:43.272032Z",
     "shell.execute_reply": "2023-03-16T04:12:43.270574Z",
     "shell.execute_reply.started": "2023-03-16T04:12:43.235206Z"
    },
    "papermill": {
     "duration": null,
     "end_time": null,
     "exception": null,
     "start_time": null,
     "status": "pending"
    },
    "tags": []
   },
   "outputs": [],
   "source": [
    "model = NearestNDInterpolator(x = list(zip(geotrain[\"Easting\"], geotrain[\"Northing\"])),\n",
    "                              y = geotrain[\"water_index\"], rescale=True, tree_options={'leafsize': 20})\n",
    "# z = model(*np.meshgrid(gridx, gridy))\n",
    "# plt.imshow(z);"
   ]
  },
  {
   "cell_type": "code",
   "execution_count": null,
   "id": "088d9605",
   "metadata": {
    "execution": {
     "iopub.execute_input": "2023-03-16T04:12:46.555054Z",
     "iopub.status.busy": "2023-03-16T04:12:46.554615Z",
     "iopub.status.idle": "2023-03-16T04:12:46.976597Z",
     "shell.execute_reply": "2023-03-16T04:12:46.975172Z",
     "shell.execute_reply.started": "2023-03-16T04:12:46.555016Z"
    },
    "papermill": {
     "duration": null,
     "end_time": null,
     "exception": null,
     "start_time": null,
     "status": "pending"
    },
    "tags": []
   },
   "outputs": [],
   "source": [
    "geotest['water_index'] = geotest.apply(lambda x: model(x.Easting, x.Northing), axis=1)"
   ]
  },
  {
   "cell_type": "code",
   "execution_count": null,
   "id": "09e0af88",
   "metadata": {
    "execution": {
     "iopub.execute_input": "2023-03-16T04:12:49.190306Z",
     "iopub.status.busy": "2023-03-16T04:12:49.189863Z",
     "iopub.status.idle": "2023-03-16T04:12:49.196855Z",
     "shell.execute_reply": "2023-03-16T04:12:49.195921Z",
     "shell.execute_reply.started": "2023-03-16T04:12:49.190264Z"
    },
    "papermill": {
     "duration": null,
     "end_time": null,
     "exception": null,
     "start_time": null,
     "status": "pending"
    },
    "tags": []
   },
   "outputs": [],
   "source": [
    "preds = geotest[['DHSID_EA', 'water_index']]"
   ]
  },
  {
   "cell_type": "code",
   "execution_count": null,
   "id": "6946c850",
   "metadata": {
    "execution": {
     "iopub.execute_input": "2023-03-16T04:12:49.871545Z",
     "iopub.status.busy": "2023-03-16T04:12:49.870784Z",
     "iopub.status.idle": "2023-03-16T04:12:49.889059Z",
     "shell.execute_reply": "2023-03-16T04:12:49.888120Z",
     "shell.execute_reply.started": "2023-03-16T04:12:49.871502Z"
    },
    "papermill": {
     "duration": null,
     "end_time": null,
     "exception": null,
     "start_time": null,
     "status": "pending"
    },
    "tags": []
   },
   "outputs": [],
   "source": [
    "preds.to_csv('test.csv', index=False)"
   ]
  },
  {
   "cell_type": "code",
   "execution_count": null,
   "id": "732565d3",
   "metadata": {
    "execution": {
     "iopub.execute_input": "2023-03-16T04:12:50.222348Z",
     "iopub.status.busy": "2023-03-16T04:12:50.221440Z",
     "iopub.status.idle": "2023-03-16T04:12:50.230605Z",
     "shell.execute_reply": "2023-03-16T04:12:50.229349Z",
     "shell.execute_reply.started": "2023-03-16T04:12:50.222299Z"
    },
    "papermill": {
     "duration": null,
     "end_time": null,
     "exception": null,
     "start_time": null,
     "status": "pending"
    },
    "tags": []
   },
   "outputs": [],
   "source": [
    "preds.shape"
   ]
  },
  {
   "cell_type": "code",
   "execution_count": null,
   "id": "897d0071",
   "metadata": {
    "execution": {
     "iopub.execute_input": "2023-03-16T04:12:50.737228Z",
     "iopub.status.busy": "2023-03-16T04:12:50.736793Z",
     "iopub.status.idle": "2023-03-16T04:12:50.753433Z",
     "shell.execute_reply": "2023-03-16T04:12:50.751890Z",
     "shell.execute_reply.started": "2023-03-16T04:12:50.737189Z"
    },
    "papermill": {
     "duration": null,
     "end_time": null,
     "exception": null,
     "start_time": null,
     "status": "pending"
    },
    "tags": []
   },
   "outputs": [],
   "source": [
    "preds"
   ]
  },
  {
   "cell_type": "code",
   "execution_count": null,
   "id": "69e42385",
   "metadata": {
    "execution": {
     "iopub.execute_input": "2023-03-16T03:29:23.934412Z",
     "iopub.status.busy": "2023-03-16T03:29:23.933972Z",
     "iopub.status.idle": "2023-03-16T03:29:23.952674Z",
     "shell.execute_reply": "2023-03-16T03:29:23.951462Z",
     "shell.execute_reply.started": "2023-03-16T03:29:23.934362Z"
    },
    "papermill": {
     "duration": null,
     "end_time": null,
     "exception": null,
     "start_time": null,
     "status": "pending"
    },
    "tags": []
   },
   "outputs": [],
   "source": [
    "pd.read_csv('/kaggle/working/test.csv')"
   ]
  },
  {
   "cell_type": "code",
   "execution_count": null,
   "id": "99b48e27",
   "metadata": {
    "execution": {
     "iopub.execute_input": "2023-03-16T04:13:04.519116Z",
     "iopub.status.busy": "2023-03-16T04:13:04.518709Z",
     "iopub.status.idle": "2023-03-16T04:13:04.559048Z",
     "shell.execute_reply": "2023-03-16T04:13:04.557615Z",
     "shell.execute_reply.started": "2023-03-16T04:13:04.519081Z"
    },
    "papermill": {
     "duration": null,
     "end_time": null,
     "exception": null,
     "start_time": null,
     "status": "pending"
    },
    "tags": []
   },
   "outputs": [],
   "source": [
    "train"
   ]
  },
  {
   "cell_type": "code",
   "execution_count": null,
   "id": "6a8d0ebe",
   "metadata": {
    "execution": {
     "iopub.execute_input": "2023-03-16T05:00:37.822720Z",
     "iopub.status.busy": "2023-03-16T05:00:37.822276Z",
     "iopub.status.idle": "2023-03-16T05:00:37.886285Z",
     "shell.execute_reply": "2023-03-16T05:00:37.884978Z",
     "shell.execute_reply.started": "2023-03-16T05:00:37.822681Z"
    },
    "papermill": {
     "duration": null,
     "end_time": null,
     "exception": null,
     "start_time": null,
     "status": "pending"
    },
    "tags": []
   },
   "outputs": [],
   "source": [
    "from sklearn.neighbors import KNeighborsRegressor\n",
    "\n",
    "X = train[['lat', 'lon']]\n",
    "y = train['water_index']\n",
    "\n",
    "Xt = test[['lat', 'lon']]\n",
    "\n",
    "neigh = KNeighborsRegressor(n_neighbors=2)\n",
    "neigh.fit(X, y)\n",
    "preds = neigh.predict(X)"
   ]
  },
  {
   "cell_type": "code",
   "execution_count": null,
   "id": "795db6a2",
   "metadata": {
    "execution": {
     "iopub.execute_input": "2023-03-16T04:16:28.834320Z",
     "iopub.status.busy": "2023-03-16T04:16:28.833924Z",
     "iopub.status.idle": "2023-03-16T04:16:28.840384Z",
     "shell.execute_reply": "2023-03-16T04:16:28.838994Z",
     "shell.execute_reply.started": "2023-03-16T04:16:28.834285Z"
    },
    "papermill": {
     "duration": null,
     "end_time": null,
     "exception": null,
     "start_time": null,
     "status": "pending"
    },
    "tags": []
   },
   "outputs": [],
   "source": [
    "geotest['water_index'] = preds"
   ]
  },
  {
   "cell_type": "code",
   "execution_count": null,
   "id": "87dba483",
   "metadata": {
    "execution": {
     "iopub.execute_input": "2023-03-16T04:16:30.899043Z",
     "iopub.status.busy": "2023-03-16T04:16:30.898649Z",
     "iopub.status.idle": "2023-03-16T04:16:30.905903Z",
     "shell.execute_reply": "2023-03-16T04:16:30.904617Z",
     "shell.execute_reply.started": "2023-03-16T04:16:30.899009Z"
    },
    "papermill": {
     "duration": null,
     "end_time": null,
     "exception": null,
     "start_time": null,
     "status": "pending"
    },
    "tags": []
   },
   "outputs": [],
   "source": [
    "preds = geotest[['DHSID_EA', 'water_index']]"
   ]
  },
  {
   "cell_type": "code",
   "execution_count": null,
   "id": "c655fb14",
   "metadata": {
    "execution": {
     "iopub.execute_input": "2023-03-16T04:16:36.688983Z",
     "iopub.status.busy": "2023-03-16T04:16:36.688515Z",
     "iopub.status.idle": "2023-03-16T04:16:36.706619Z",
     "shell.execute_reply": "2023-03-16T04:16:36.705462Z",
     "shell.execute_reply.started": "2023-03-16T04:16:36.688942Z"
    },
    "papermill": {
     "duration": null,
     "end_time": null,
     "exception": null,
     "start_time": null,
     "status": "pending"
    },
    "tags": []
   },
   "outputs": [],
   "source": [
    "preds"
   ]
  },
  {
   "cell_type": "code",
   "execution_count": null,
   "id": "0724ea01",
   "metadata": {
    "execution": {
     "iopub.execute_input": "2023-03-16T06:46:35.695605Z",
     "iopub.status.busy": "2023-03-16T06:46:35.695077Z",
     "iopub.status.idle": "2023-03-16T06:46:38.848987Z",
     "shell.execute_reply": "2023-03-16T06:46:38.847751Z",
     "shell.execute_reply.started": "2023-03-16T06:46:35.695557Z"
    },
    "papermill": {
     "duration": null,
     "end_time": null,
     "exception": null,
     "start_time": null,
     "status": "pending"
    },
    "tags": []
   },
   "outputs": [],
   "source": [
    "from sklearn.model_selection  import train_test_split, cross_val_score\n",
    "from sklearn.neighbors import KNeighborsRegressor\n",
    "\n",
    "X = train[['lat', 'lon', 'asset_index']]\n",
    "y = train['water_index']\n",
    "\n",
    "Xt = test[['lat', 'lon', 'asset_index']]\n",
    "\n",
    "X_train, X_valid, y_train, y_valid = train_test_split(\n",
    "    X, y, test_size=0.33, random_state=42)\n",
    "\n",
    "scores = []\n",
    "for k in np.arange(1, 30, 2):   # running for different K values to know which yields the max accuracy. \n",
    "    clf = KNeighborsRegressor(n_neighbors = k, weights='uniform', algorithm=\"auto\")\n",
    "    clf.fit(X_train, y_train)\n",
    "    score = cross_val_score(clf, X_train, y_train, cv = 10)\n",
    "    scores.append(score.mean())"
   ]
  },
  {
   "cell_type": "code",
   "execution_count": null,
   "id": "28c0898a",
   "metadata": {
    "execution": {
     "iopub.execute_input": "2023-03-16T06:46:41.790633Z",
     "iopub.status.busy": "2023-03-16T06:46:41.789708Z",
     "iopub.status.idle": "2023-03-16T06:46:41.803976Z",
     "shell.execute_reply": "2023-03-16T06:46:41.802344Z",
     "shell.execute_reply.started": "2023-03-16T06:46:41.790581Z"
    },
    "papermill": {
     "duration": null,
     "end_time": null,
     "exception": null,
     "start_time": null,
     "status": "pending"
    },
    "tags": []
   },
   "outputs": [],
   "source": [
    "pd.DataFrame(scores, index=list(np.arange(1, 30, 2)))"
   ]
  },
  {
   "cell_type": "code",
   "execution_count": null,
   "id": "edc0c172",
   "metadata": {
    "execution": {
     "iopub.execute_input": "2023-03-16T08:57:11.885739Z",
     "iopub.status.busy": "2023-03-16T08:57:11.884536Z",
     "iopub.status.idle": "2023-03-16T08:57:11.961646Z",
     "shell.execute_reply": "2023-03-16T08:57:11.960539Z",
     "shell.execute_reply.started": "2023-03-16T08:57:11.885686Z"
    },
    "papermill": {
     "duration": null,
     "end_time": null,
     "exception": null,
     "start_time": null,
     "status": "pending"
    },
    "tags": []
   },
   "outputs": [],
   "source": [
    "knn = KNeighborsRegressor(n_neighbors = 9, weights='uniform', algorithm=\"auto\")\n",
    "knn.fit(X_train, y_train)\n",
    "y_valid_pred = knn.predict(X_valid)"
   ]
  },
  {
   "cell_type": "code",
   "execution_count": null,
   "id": "929dd441",
   "metadata": {
    "execution": {
     "iopub.execute_input": "2023-03-16T08:57:14.594582Z",
     "iopub.status.busy": "2023-03-16T08:57:14.594012Z",
     "iopub.status.idle": "2023-03-16T08:57:14.607131Z",
     "shell.execute_reply": "2023-03-16T08:57:14.605385Z",
     "shell.execute_reply.started": "2023-03-16T08:57:14.594521Z"
    },
    "papermill": {
     "duration": null,
     "end_time": null,
     "exception": null,
     "start_time": null,
     "status": "pending"
    },
    "tags": []
   },
   "outputs": [],
   "source": [
    "from sklearn.metrics import r2_score\n",
    "r2_score(y_valid, y_valid_pred)"
   ]
  },
  {
   "cell_type": "code",
   "execution_count": null,
   "id": "65c0218a",
   "metadata": {
    "execution": {
     "iopub.execute_input": "2023-03-16T06:49:16.214788Z",
     "iopub.status.busy": "2023-03-16T06:49:16.214016Z",
     "iopub.status.idle": "2023-03-16T06:49:16.254832Z",
     "shell.execute_reply": "2023-03-16T06:49:16.253514Z",
     "shell.execute_reply.started": "2023-03-16T06:49:16.214688Z"
    },
    "papermill": {
     "duration": null,
     "end_time": null,
     "exception": null,
     "start_time": null,
     "status": "pending"
    },
    "tags": []
   },
   "outputs": [],
   "source": [
    "preds = knn.predict(Xt)\n",
    "test['water_index'] = preds\n",
    "test = test[['DHSID_EA', 'water_index']]\n",
    "test.to_csv('test.csv', index=False)"
   ]
  },
  {
   "cell_type": "code",
   "execution_count": null,
   "id": "850bd658",
   "metadata": {
    "execution": {
     "iopub.execute_input": "2023-03-16T08:57:37.179721Z",
     "iopub.status.busy": "2023-03-16T08:57:37.179303Z",
     "iopub.status.idle": "2023-03-16T08:57:37.852838Z",
     "shell.execute_reply": "2023-03-16T08:57:37.851550Z",
     "shell.execute_reply.started": "2023-03-16T08:57:37.179686Z"
    },
    "papermill": {
     "duration": null,
     "end_time": null,
     "exception": null,
     "start_time": null,
     "status": "pending"
    },
    "tags": []
   },
   "outputs": [],
   "source": [
    "from lightgbm import LGBMRegressor\n",
    "\n",
    "lgbm = LGBMRegressor()\n",
    "lgbm.fit(X_train, y_train)\n",
    "predicted_y = lgbm.predict(X_valid)"
   ]
  },
  {
   "cell_type": "code",
   "execution_count": null,
   "id": "191bcdd5",
   "metadata": {
    "execution": {
     "iopub.execute_input": "2023-03-16T08:57:37.855537Z",
     "iopub.status.busy": "2023-03-16T08:57:37.855129Z",
     "iopub.status.idle": "2023-03-16T08:57:37.865520Z",
     "shell.execute_reply": "2023-03-16T08:57:37.864146Z",
     "shell.execute_reply.started": "2023-03-16T08:57:37.855498Z"
    },
    "papermill": {
     "duration": null,
     "end_time": null,
     "exception": null,
     "start_time": null,
     "status": "pending"
    },
    "tags": []
   },
   "outputs": [],
   "source": [
    "r2_score(y_valid, predicted_y)"
   ]
  },
  {
   "cell_type": "code",
   "execution_count": null,
   "id": "81535c91",
   "metadata": {
    "execution": {
     "iopub.execute_input": "2023-03-16T09:00:03.951900Z",
     "iopub.status.busy": "2023-03-16T09:00:03.950670Z",
     "iopub.status.idle": "2023-03-16T09:00:03.983595Z",
     "shell.execute_reply": "2023-03-16T09:00:03.982195Z",
     "shell.execute_reply.started": "2023-03-16T09:00:03.951837Z"
    },
    "papermill": {
     "duration": null,
     "end_time": null,
     "exception": null,
     "start_time": null,
     "status": "pending"
    },
    "tags": []
   },
   "outputs": [],
   "source": [
    "preds = lgbm.predict(Xt)\n",
    "test['water_index'] = preds\n",
    "tester = test[['DHSID_EA', 'water_index']]\n",
    "tester.to_csv('test.csv', index=False)"
   ]
  },
  {
   "cell_type": "code",
   "execution_count": null,
   "id": "94beaac8",
   "metadata": {
    "execution": {
     "iopub.execute_input": "2023-03-16T08:57:31.053416Z",
     "iopub.status.busy": "2023-03-16T08:57:31.052955Z",
     "iopub.status.idle": "2023-03-16T08:57:31.683006Z",
     "shell.execute_reply": "2023-03-16T08:57:31.681679Z",
     "shell.execute_reply.started": "2023-03-16T08:57:31.053380Z"
    },
    "papermill": {
     "duration": null,
     "end_time": null,
     "exception": null,
     "start_time": null,
     "status": "pending"
    },
    "tags": []
   },
   "outputs": [],
   "source": [
    "import xgboost as xgb\n",
    "\n",
    "reg = xgb.XGBRegressor(\n",
    "    tree_method=\"hist\",\n",
    "    eval_metric=r2_score,\n",
    ")\n",
    "reg.fit(X_train, y_train)\n",
    "predicted_y = reg.predict(X_valid)"
   ]
  },
  {
   "cell_type": "code",
   "execution_count": null,
   "id": "3b70a762",
   "metadata": {
    "execution": {
     "iopub.execute_input": "2023-03-16T08:57:32.622561Z",
     "iopub.status.busy": "2023-03-16T08:57:32.622138Z",
     "iopub.status.idle": "2023-03-16T08:57:32.637321Z",
     "shell.execute_reply": "2023-03-16T08:57:32.635955Z",
     "shell.execute_reply.started": "2023-03-16T08:57:32.622525Z"
    },
    "papermill": {
     "duration": null,
     "end_time": null,
     "exception": null,
     "start_time": null,
     "status": "pending"
    },
    "tags": []
   },
   "outputs": [],
   "source": [
    "r2_score(y_valid, predicted_y)"
   ]
  },
  {
   "cell_type": "code",
   "execution_count": null,
   "id": "e1b34f2d",
   "metadata": {
    "execution": {
     "iopub.execute_input": "2023-03-16T04:37:08.270577Z",
     "iopub.status.busy": "2023-03-16T04:37:08.270121Z",
     "iopub.status.idle": "2023-03-16T04:37:30.499148Z",
     "shell.execute_reply": "2023-03-16T04:37:30.497768Z",
     "shell.execute_reply.started": "2023-03-16T04:37:08.270535Z"
    },
    "papermill": {
     "duration": null,
     "end_time": null,
     "exception": null,
     "start_time": null,
     "status": "pending"
    },
    "tags": []
   },
   "outputs": [],
   "source": [
    "krig = OrdinaryKriging(x=geotrain[\"Easting\"], y=geotrain[\"Northing\"], z=geotrain[\"water_index\"], variogram_model=\"spherical\")"
   ]
  },
  {
   "cell_type": "code",
   "execution_count": null,
   "id": "1bcffe25",
   "metadata": {
    "execution": {
     "iopub.execute_input": "2023-03-16T04:37:30.502326Z",
     "iopub.status.busy": "2023-03-16T04:37:30.501827Z",
     "iopub.status.idle": "2023-03-16T04:42:58.191452Z",
     "shell.execute_reply": "2023-03-16T04:42:58.190031Z",
     "shell.execute_reply.started": "2023-03-16T04:37:30.502274Z"
    },
    "papermill": {
     "duration": null,
     "end_time": null,
     "exception": null,
     "start_time": null,
     "status": "pending"
    },
    "tags": []
   },
   "outputs": [],
   "source": [
    "preds, ss = krig.execute(\"points\", geotest['Easting'], geotest['Northing'])"
   ]
  },
  {
   "cell_type": "code",
   "execution_count": null,
   "id": "441a270c",
   "metadata": {
    "execution": {
     "iopub.execute_input": "2023-03-16T04:47:41.663033Z",
     "iopub.status.busy": "2023-03-16T04:47:41.662586Z",
     "iopub.status.idle": "2023-03-16T04:47:41.670985Z",
     "shell.execute_reply": "2023-03-16T04:47:41.669504Z",
     "shell.execute_reply.started": "2023-03-16T04:47:41.662991Z"
    },
    "papermill": {
     "duration": null,
     "end_time": null,
     "exception": null,
     "start_time": null,
     "status": "pending"
    },
    "tags": []
   },
   "outputs": [],
   "source": [
    "geotest['water_index'] = preds"
   ]
  },
  {
   "cell_type": "code",
   "execution_count": null,
   "id": "121f44fa",
   "metadata": {
    "execution": {
     "iopub.execute_input": "2023-03-16T04:47:54.487008Z",
     "iopub.status.busy": "2023-03-16T04:47:54.486587Z",
     "iopub.status.idle": "2023-03-16T04:47:54.498036Z",
     "shell.execute_reply": "2023-03-16T04:47:54.496621Z",
     "shell.execute_reply.started": "2023-03-16T04:47:54.486970Z"
    },
    "papermill": {
     "duration": null,
     "end_time": null,
     "exception": null,
     "start_time": null,
     "status": "pending"
    },
    "tags": []
   },
   "outputs": [],
   "source": [
    "preds = geotest[['DHSID_EA', 'water_index']]"
   ]
  },
  {
   "cell_type": "code",
   "execution_count": null,
   "id": "c805274b",
   "metadata": {
    "execution": {
     "iopub.execute_input": "2023-03-16T04:47:58.093238Z",
     "iopub.status.busy": "2023-03-16T04:47:58.092375Z",
     "iopub.status.idle": "2023-03-16T04:47:58.112820Z",
     "shell.execute_reply": "2023-03-16T04:47:58.111415Z",
     "shell.execute_reply.started": "2023-03-16T04:47:58.093155Z"
    },
    "papermill": {
     "duration": null,
     "end_time": null,
     "exception": null,
     "start_time": null,
     "status": "pending"
    },
    "tags": []
   },
   "outputs": [],
   "source": [
    "preds"
   ]
  },
  {
   "cell_type": "code",
   "execution_count": null,
   "id": "5ef2bb6d",
   "metadata": {
    "execution": {
     "iopub.execute_input": "2023-03-16T04:48:26.958761Z",
     "iopub.status.busy": "2023-03-16T04:48:26.958290Z",
     "iopub.status.idle": "2023-03-16T04:48:26.976957Z",
     "shell.execute_reply": "2023-03-16T04:48:26.975510Z",
     "shell.execute_reply.started": "2023-03-16T04:48:26.958710Z"
    },
    "papermill": {
     "duration": null,
     "end_time": null,
     "exception": null,
     "start_time": null,
     "status": "pending"
    },
    "tags": []
   },
   "outputs": [],
   "source": [
    "preds.to_csv('test.csv', index=False)"
   ]
  },
  {
   "cell_type": "code",
   "execution_count": null,
   "id": "0452cfbc",
   "metadata": {
    "execution": {
     "iopub.execute_input": "2023-03-16T04:49:55.051691Z",
     "iopub.status.busy": "2023-03-16T04:49:55.051203Z",
     "iopub.status.idle": "2023-03-16T04:54:47.785665Z",
     "shell.execute_reply": "2023-03-16T04:54:47.784376Z",
     "shell.execute_reply.started": "2023-03-16T04:49:55.051652Z"
    },
    "papermill": {
     "duration": null,
     "end_time": null,
     "exception": null,
     "start_time": null,
     "status": "pending"
    },
    "tags": []
   },
   "outputs": [],
   "source": [
    "preds10, ss10 = krig.execute(\"points\", geotrain['Easting'][:10], geotrain['Northing'][:10])"
   ]
  },
  {
   "cell_type": "code",
   "execution_count": null,
   "id": "17fae60c",
   "metadata": {
    "execution": {
     "iopub.execute_input": "2023-03-16T05:00:42.926546Z",
     "iopub.status.busy": "2023-03-16T05:00:42.925580Z",
     "iopub.status.idle": "2023-03-16T05:00:42.936571Z",
     "shell.execute_reply": "2023-03-16T05:00:42.935218Z",
     "shell.execute_reply.started": "2023-03-16T05:00:42.926485Z"
    },
    "papermill": {
     "duration": null,
     "end_time": null,
     "exception": null,
     "start_time": null,
     "status": "pending"
    },
    "tags": []
   },
   "outputs": [],
   "source": [
    "from sklearn.metrics import r2_score\n",
    "\n",
    "r2_score(y[:10], preds10)"
   ]
  },
  {
   "cell_type": "code",
   "execution_count": null,
   "id": "7f7252c4",
   "metadata": {
    "papermill": {
     "duration": null,
     "end_time": null,
     "exception": null,
     "start_time": null,
     "status": "pending"
    },
    "tags": []
   },
   "outputs": [],
   "source": []
  }
 ],
 "metadata": {
  "kernelspec": {
   "display_name": "Python 3",
   "language": "python",
   "name": "python3"
  },
  "language_info": {
   "codemirror_mode": {
    "name": "ipython",
    "version": 3
   },
   "file_extension": ".py",
   "mimetype": "text/x-python",
   "name": "python",
   "nbconvert_exporter": "python",
   "pygments_lexer": "ipython3",
   "version": "3.7.12"
  },
  "papermill": {
   "default_parameters": {},
   "duration": 21.114863,
   "end_time": "2023-03-16T20:20:00.712141",
   "environment_variables": {},
   "exception": true,
   "input_path": "__notebook__.ipynb",
   "output_path": "__notebook__.ipynb",
   "parameters": {},
   "start_time": "2023-03-16T20:19:39.597278",
   "version": "2.4.0"
  }
 },
 "nbformat": 4,
 "nbformat_minor": 5
}
